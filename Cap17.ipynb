{
  "nbformat": 4,
  "nbformat_minor": 0,
  "metadata": {
    "colab": {
      "provenance": [],
      "authorship_tag": "ABX9TyNF8rG9ZEqoxgGrDw0OXet8",
      "include_colab_link": true
    },
    "kernelspec": {
      "name": "python3",
      "display_name": "Python 3"
    },
    "language_info": {
      "name": "python"
    }
  },
  "cells": [
    {
      "cell_type": "markdown",
      "metadata": {
        "id": "view-in-github",
        "colab_type": "text"
      },
      "source": [
        "<a href=\"https://colab.research.google.com/github/LuchoValr/The-effect/blob/main/Cap17.ipynb\" target=\"_parent\"><img src=\"https://colab.research.google.com/assets/colab-badge.svg\" alt=\"Open In Colab\"/></a>"
      ]
    },
    {
      "cell_type": "markdown",
      "source": [
        "#Haciendo un primer estudio de eventos\n"
      ],
      "metadata": {
        "id": "X8KGHH4d2_XO"
      }
    },
    {
      "cell_type": "code",
      "execution_count": 2,
      "metadata": {
        "colab": {
          "base_uri": "https://localhost:8080/"
        },
        "id": "wIdE6IOGttr3",
        "outputId": "35e25384-cd48-4efa-9bb4-22fd8d17c281"
      },
      "outputs": [
        {
          "output_type": "stream",
          "name": "stdout",
          "text": [
            "Looking in indexes: https://pypi.org/simple, https://us-python.pkg.dev/colab-wheels/public/simple/\n",
            "Collecting causaldata\n",
            "  Downloading causaldata-0.1.3.tar.gz (2.6 MB)\n",
            "\u001b[2K     \u001b[90m━━━━━━━━━━━━━━━━━━━━━━━━━━━━━━━━━━━━━━━━\u001b[0m \u001b[32m2.6/2.6 MB\u001b[0m \u001b[31m26.4 MB/s\u001b[0m eta \u001b[36m0:00:00\u001b[0m\n",
            "\u001b[?25h  Preparing metadata (setup.py) ... \u001b[?25l\u001b[?25hdone\n",
            "Requirement already satisfied: statsmodels in /usr/local/lib/python3.10/dist-packages (from causaldata) (0.13.5)\n",
            "Requirement already satisfied: pandas in /usr/local/lib/python3.10/dist-packages (from causaldata) (1.5.3)\n",
            "Requirement already satisfied: python-dateutil>=2.8.1 in /usr/local/lib/python3.10/dist-packages (from pandas->causaldata) (2.8.2)\n",
            "Requirement already satisfied: pytz>=2020.1 in /usr/local/lib/python3.10/dist-packages (from pandas->causaldata) (2022.7.1)\n",
            "Requirement already satisfied: numpy>=1.21.0 in /usr/local/lib/python3.10/dist-packages (from pandas->causaldata) (1.22.4)\n",
            "Requirement already satisfied: patsy>=0.5.2 in /usr/local/lib/python3.10/dist-packages (from statsmodels->causaldata) (0.5.3)\n",
            "Requirement already satisfied: packaging>=21.3 in /usr/local/lib/python3.10/dist-packages (from statsmodels->causaldata) (23.1)\n",
            "Requirement already satisfied: scipy>=1.3 in /usr/local/lib/python3.10/dist-packages (from statsmodels->causaldata) (1.10.1)\n",
            "Requirement already satisfied: six in /usr/local/lib/python3.10/dist-packages (from patsy>=0.5.2->statsmodels->causaldata) (1.16.0)\n",
            "Building wheels for collected packages: causaldata\n",
            "  Building wheel for causaldata (setup.py) ... \u001b[?25l\u001b[?25hdone\n",
            "  Created wheel for causaldata: filename=causaldata-0.1.3-py3-none-any.whl size=2645603 sha256=28d9768d720237e845f4b1707506aa007098be00630b2f13bc07663a8f16015d\n",
            "  Stored in directory: /root/.cache/pip/wheels/4a/8f/9f/13d3a7ab29b8a8c68f3e5dcc0fe00d0e8eef62fc508a20c7c6\n",
            "Successfully built causaldata\n",
            "Installing collected packages: causaldata\n",
            "Successfully installed causaldata-0.1.3\n"
          ]
        }
      ],
      "source": [
        "!pip install causaldata\n",
        "import pandas as pd \n",
        "import numpy as np\n",
        "import statsmodels.formula.api as smf\n",
        "import seaborn as sns\n",
        "import matplotlib.pyplot as plt\n",
        "from causaldata import google_stock"
      ]
    },
    {
      "cell_type": "code",
      "source": [
        "goog = google_stock.load_pandas (). data"
      ],
      "metadata": {
        "id": "M7kXlIp13M8o"
      },
      "execution_count": 11,
      "outputs": []
    },
    {
      "cell_type": "code",
      "source": [
        "# Create estimation data set\n",
        "goog['Date'] = pd.to_datetime(goog['Date'])\n",
        "est_data = goog.loc[(goog['Date'] >= pd.Timestamp (2015 ,5 ,1)) & (goog['Date'] < pd.Timestamp (2015 ,7 ,31))]\n"
      ],
      "metadata": {
        "id": "0OBmHSsJ3TZj"
      },
      "execution_count": 12,
      "outputs": []
    },
    {
      "cell_type": "code",
      "source": [
        "# And observation data\n",
        "obs_data = goog.loc[(goog['Date'] >= pd.Timestamp (2015 ,8 ,6)) & (goog['Date'] < pd.Timestamp (2015 ,8 ,24))]"
      ],
      "metadata": {
        "id": "LD0EDpl53aTJ"
      },
      "execution_count": 13,
      "outputs": []
    },
    {
      "cell_type": "code",
      "source": [
        "# Estimate a model predicting stock price with market return\n",
        "m = smf.ols('Google_Return ~ SP500_Return ', data = est_data ).fit()"
      ],
      "metadata": {
        "id": "hg9SQLg83eH6"
      },
      "execution_count": 14,
      "outputs": []
    },
    {
      "cell_type": "code",
      "source": [
        "# Get AR\n",
        "# Using mean of estimation return\n",
        "goog_return = np.mean(est_data['Google_Return'])\n",
        "obs_data['AR_mean'] = obs_data['Google_Return'] - goog_return\n",
        "# Then comparing to market return\n",
        "obs_data['AR_market'] = obs_data['Google_Return'] - obs_data['SP500_Return']\n",
        "# Then using model fit with estimation data\n",
        "obs_data['risk_pred'] = m.predict(obs_data)\n",
        "obs_data['AR_risk'] = obs_data['Google_Return'] - obs_data['risk_pred']"
      ],
      "metadata": {
        "colab": {
          "base_uri": "https://localhost:8080/"
        },
        "id": "3lNjhhPd3g9F",
        "outputId": "bb0560ca-994d-4abd-f4be-b9187ce07e9d"
      },
      "execution_count": 15,
      "outputs": [
        {
          "output_type": "stream",
          "name": "stderr",
          "text": [
            "<ipython-input-15-18411c9633cb>:4: SettingWithCopyWarning: \n",
            "A value is trying to be set on a copy of a slice from a DataFrame.\n",
            "Try using .loc[row_indexer,col_indexer] = value instead\n",
            "\n",
            "See the caveats in the documentation: https://pandas.pydata.org/pandas-docs/stable/user_guide/indexing.html#returning-a-view-versus-a-copy\n",
            "  obs_data['AR_mean'] = obs_data['Google_Return'] - goog_return\n",
            "<ipython-input-15-18411c9633cb>:6: SettingWithCopyWarning: \n",
            "A value is trying to be set on a copy of a slice from a DataFrame.\n",
            "Try using .loc[row_indexer,col_indexer] = value instead\n",
            "\n",
            "See the caveats in the documentation: https://pandas.pydata.org/pandas-docs/stable/user_guide/indexing.html#returning-a-view-versus-a-copy\n",
            "  obs_data['AR_market'] = obs_data['Google_Return'] - obs_data['SP500_Return']\n",
            "<ipython-input-15-18411c9633cb>:8: SettingWithCopyWarning: \n",
            "A value is trying to be set on a copy of a slice from a DataFrame.\n",
            "Try using .loc[row_indexer,col_indexer] = value instead\n",
            "\n",
            "See the caveats in the documentation: https://pandas.pydata.org/pandas-docs/stable/user_guide/indexing.html#returning-a-view-versus-a-copy\n",
            "  obs_data['risk_pred'] = m.predict(obs_data)\n",
            "<ipython-input-15-18411c9633cb>:9: SettingWithCopyWarning: \n",
            "A value is trying to be set on a copy of a slice from a DataFrame.\n",
            "Try using .loc[row_indexer,col_indexer] = value instead\n",
            "\n",
            "See the caveats in the documentation: https://pandas.pydata.org/pandas-docs/stable/user_guide/indexing.html#returning-a-view-versus-a-copy\n",
            "  obs_data['AR_risk'] = obs_data['Google_Return'] - obs_data['risk_pred']\n"
          ]
        }
      ]
    },
    {
      "cell_type": "code",
      "source": [
        "# Graph the results\n",
        "sns.lineplot(x = obs_data['Date'],y = obs_data['AR_risk'])\n",
        "plt.axvline(pd.Timestamp (2015 ,8 ,10))\n",
        "plt.axhline (0)"
      ],
      "metadata": {
        "colab": {
          "base_uri": "https://localhost:8080/",
          "height": 466
        },
        "id": "0cib9mBW3vk4",
        "outputId": "9fde21e4-0f19-4749-9cb1-6412729f01ab"
      },
      "execution_count": 16,
      "outputs": [
        {
          "output_type": "execute_result",
          "data": {
            "text/plain": [
              "<matplotlib.lines.Line2D at 0x7ff5dd074d90>"
            ]
          },
          "metadata": {},
          "execution_count": 16
        },
        {
          "output_type": "display_data",
          "data": {
            "text/plain": [
              "<Figure size 640x480 with 1 Axes>"
            ],
            "image/png": "[encoded data removed]"
          },
          "metadata": {}
        }
      ]
    },
    {
      "cell_type": "markdown",
      "source": [
        "#Estudio de eventos con diferentes grupos"
      ],
      "metadata": {
        "id": "jkH8FrUtGhHz"
      }
    },
    {
      "cell_type": "code",
      "source": [
        "np.random.seed (10)"
      ],
      "metadata": {
        "id": "a0DU_Si730Mu"
      },
      "execution_count": 17,
      "outputs": []
    },
    {
      "cell_type": "code",
      "source": [
        "# Ten groups with ten periods each\n",
        "id = pd.DataFrame ({'id': range(0,10), 'key': 1})\n",
        "t = pd.DataFrame ({'t': range(1,11), 'key': 1})\n",
        "d = id.merge(t, on = 'key')\n",
        "# Add an event in period 6 with a one-period effect\n",
        "d['Y'] = np.random.normal (0,1,100) + 1*(d['t'] == 6)"
      ],
      "metadata": {
        "id": "onFbY7KkGlPR"
      },
      "execution_count": null,
      "outputs": []
    },
    {
      "cell_type": "code",
      "source": [
        "# Estimate our ]model using time 5 as reference\n",
        "m = smf.ols('Y~C(t, Treatment(reference = 5))', data = d)"
      ],
      "metadata": {
        "id": "MNBL9aUbGxbJ"
      },
      "execution_count": 19,
      "outputs": []
    },
    {
      "cell_type": "code",
      "source": [
        "# Fit with SEs clustered at the group level\n",
        "m = m.fit(cov_type = 'cluster',cov_kwds ={'groups': d['id']})"
      ],
      "metadata": {
        "id": "Or-uespQG3wv"
      },
      "execution_count": 20,
      "outputs": []
    },
    {
      "cell_type": "code",
      "source": [
        "# Get coefficients and CIs\n",
        "# The original table will have an intercept up top\n",
        "# But we'll overwrite it with our 5 reference\n",
        "p = pd.DataFrame ({'t': [5,1,2,3,4,6,7,8,9,10],\n",
        "                   'b': m.params , 'se': m.bse})\n"
      ],
      "metadata": {
        "id": "bKRQ0ZKFG6zQ"
      },
      "execution_count": 21,
      "outputs": []
    },
    {
      "cell_type": "code",
      "source": [
        "# And add our period -5 zero\n",
        "p.iloc [0] = [5, 0, 0]"
      ],
      "metadata": {
        "id": "rZWYGF5jHDiU"
      },
      "execution_count": 22,
      "outputs": []
    },
    {
      "cell_type": "code",
      "source": [
        "# Sort for plotting\n",
        "p = p.sort_values('t')"
      ],
      "metadata": {
        "id": "xiFqcuZkHGPw"
      },
      "execution_count": 23,
      "outputs": []
    },
    {
      "cell_type": "code",
      "source": [
        "# and make CIs by scaling the standard error\n",
        "p['ci'] = 1.96*p['se']"
      ],
      "metadata": {
        "id": "w9LfnyhhHIQ6"
      },
      "execution_count": 24,
      "outputs": []
    },
    {
      "cell_type": "code",
      "source": [
        "# Plot the estimates as connected lines with error bars\n",
        "plt.errorbar(x = 't', y = 'b', yerr = 'ci', data = p)\n",
        "# Add a horizontal line at 0\n",
        "plt.axhline(0, linestyle = 'dashed')\n",
        "# And a vertical line at the treatment time\n",
        "plt.axvline (5)"
      ],
      "metadata": {
        "id": "61dBeBnzHJ_w",
        "outputId": "c31c4274-0633-4ca1-ebdf-7103e2591320",
        "colab": {
          "base_uri": "https://localhost:8080/",
          "height": 447
        }
      },
      "execution_count": 25,
      "outputs": [
        {
          "output_type": "execute_result",
          "data": {
            "text/plain": [
              "<matplotlib.lines.Line2D at 0x7ff5dadc7610>"
            ]
          },
          "metadata": {},
          "execution_count": 25
        },
        {
          "output_type": "display_data",
          "data": {
            "text/plain": [
              "<Figure size 640x480 with 1 Axes>"
            ],
            "image/png": "[encoded data removed]"
          },
          "metadata": {}
        }
      ]
    },
    {
      "cell_type": "code",
      "source": [],
      "metadata": {
        "id": "xeGPokWVHSJr"
      },
      "execution_count": null,
      "outputs": []
    }
  ]
}