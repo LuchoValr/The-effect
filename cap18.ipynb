{
  "nbformat": 4,
  "nbformat_minor": 0,
  "metadata": {
    "colab": {
      "provenance": [],
      "authorship_tag": "ABX9TyMPA/ssnT8hzkQbjUucohKi",
      "include_colab_link": true
    },
    "kernelspec": {
      "name": "python3",
      "display_name": "Python 3"
    },
    "language_info": {
      "name": "python"
    }
  },
  "cells": [
    {
      "cell_type": "markdown",
      "metadata": {
        "id": "view-in-github",
        "colab_type": "text"
      },
      "source": [
        "<a href=\"https://colab.research.google.com/github/LuchoValr/The-effect/blob/main/cap18.ipynb\" target=\"_parent\"><img src=\"https://colab.research.google.com/assets/colab-badge.svg\" alt=\"Open In Colab\"/></a>"
      ]
    },
    {
      "cell_type": "markdown",
      "source": [
        "#Diferencias en diferencias con two-way foxed effects"
      ],
      "metadata": {
        "id": "KQDGVJ-cKsrg"
      }
    },
    {
      "cell_type": "code",
      "execution_count": 2,
      "metadata": {
        "colab": {
          "base_uri": "https://localhost:8080/"
        },
        "id": "rLZWBYHD5X-K",
        "outputId": "ffa54abf-9275-410b-ab93-c61fa3496b43"
      },
      "outputs": [
        {
          "output_type": "stream",
          "name": "stdout",
          "text": [
            "Looking in indexes: https://pypi.org/simple, https://us-python.pkg.dev/colab-wheels/public/simple/\n",
            "Requirement already satisfied: causaldata in /usr/local/lib/python3.10/dist-packages (0.1.3)\n",
            "Requirement already satisfied: statsmodels in /usr/local/lib/python3.10/dist-packages (from causaldata) (0.13.5)\n",
            "Requirement already satisfied: pandas in /usr/local/lib/python3.10/dist-packages (from causaldata) (1.5.3)\n",
            "Requirement already satisfied: python-dateutil>=2.8.1 in /usr/local/lib/python3.10/dist-packages (from pandas->causaldata) (2.8.2)\n",
            "Requirement already satisfied: pytz>=2020.1 in /usr/local/lib/python3.10/dist-packages (from pandas->causaldata) (2022.7.1)\n",
            "Requirement already satisfied: numpy>=1.21.0 in /usr/local/lib/python3.10/dist-packages (from pandas->causaldata) (1.22.4)\n",
            "Requirement already satisfied: patsy>=0.5.2 in /usr/local/lib/python3.10/dist-packages (from statsmodels->causaldata) (0.5.3)\n",
            "Requirement already satisfied: packaging>=21.3 in /usr/local/lib/python3.10/dist-packages (from statsmodels->causaldata) (23.1)\n",
            "Requirement already satisfied: scipy>=1.3 in /usr/local/lib/python3.10/dist-packages (from statsmodels->causaldata) (1.10.1)\n",
            "Requirement already satisfied: six in /usr/local/lib/python3.10/dist-packages (from patsy>=0.5.2->statsmodels->causaldata) (1.16.0)\n",
            "Looking in indexes: https://pypi.org/simple, https://us-python.pkg.dev/colab-wheels/public/simple/\n",
            "Collecting linearmodels\n",
            "  Downloading linearmodels-5.0-cp310-cp310-manylinux_2_17_x86_64.manylinux2014_x86_64.whl (1.8 MB)\n",
            "\u001b[2K     \u001b[90m━━━━━━━━━━━━━━━━━━━━━━━━━━━━━━━━━━━━━━━━\u001b[0m \u001b[32m1.8/1.8 MB\u001b[0m \u001b[31m24.5 MB/s\u001b[0m eta \u001b[36m0:00:00\u001b[0m\n",
            "\u001b[?25hRequirement already satisfied: numpy>=1.19.0 in /usr/local/lib/python3.10/dist-packages (from linearmodels) (1.22.4)\n",
            "Requirement already satisfied: pandas>=1.1.0 in /usr/local/lib/python3.10/dist-packages (from linearmodels) (1.5.3)\n",
            "Requirement already satisfied: scipy>=1.5.0 in /usr/local/lib/python3.10/dist-packages (from linearmodels) (1.10.1)\n",
            "Requirement already satisfied: statsmodels>=0.12.0 in /usr/local/lib/python3.10/dist-packages (from linearmodels) (0.13.5)\n",
            "Collecting mypy-extensions>=0.4 (from linearmodels)\n",
            "  Downloading mypy_extensions-1.0.0-py3-none-any.whl (4.7 kB)\n",
            "Requirement already satisfied: Cython>=0.29.34 in /usr/local/lib/python3.10/dist-packages (from linearmodels) (0.29.34)\n",
            "Collecting pyhdfe>=0.1 (from linearmodels)\n",
            "  Downloading pyhdfe-0.1.2-py3-none-any.whl (18 kB)\n",
            "Collecting formulaic>=0.6.1 (from linearmodels)\n",
            "  Downloading formulaic-0.6.1-py3-none-any.whl (82 kB)\n",
            "\u001b[2K     \u001b[90m━━━━━━━━━━━━━━━━━━━━━━━━━━━━━━━━━━━━━━━━\u001b[0m \u001b[32m82.3/82.3 kB\u001b[0m \u001b[31m7.1 MB/s\u001b[0m eta \u001b[36m0:00:00\u001b[0m\n",
            "\u001b[?25hCollecting setuptools-scm[toml]<8.0.0,>=7.0.0 (from linearmodels)\n",
            "  Downloading setuptools_scm-7.1.0-py3-none-any.whl (43 kB)\n",
            "\u001b[2K     \u001b[90m━━━━━━━━━━━━━━━━━━━━━━━━━━━━━━━━━━━━━━━━\u001b[0m \u001b[32m43.8/43.8 kB\u001b[0m \u001b[31m4.6 MB/s\u001b[0m eta \u001b[36m0:00:00\u001b[0m\n",
            "\u001b[?25hCollecting astor>=0.8 (from formulaic>=0.6.1->linearmodels)\n",
            "  Downloading astor-0.8.1-py2.py3-none-any.whl (27 kB)\n",
            "Collecting interface-meta>=1.2.0 (from formulaic>=0.6.1->linearmodels)\n",
            "  Downloading interface_meta-1.3.0-py3-none-any.whl (14 kB)\n",
            "Requirement already satisfied: typing-extensions>=4.2.0 in /usr/local/lib/python3.10/dist-packages (from formulaic>=0.6.1->linearmodels) (4.5.0)\n",
            "Requirement already satisfied: wrapt>=1.0 in /usr/local/lib/python3.10/dist-packages (from formulaic>=0.6.1->linearmodels) (1.14.1)\n",
            "Requirement already satisfied: python-dateutil>=2.8.1 in /usr/local/lib/python3.10/dist-packages (from pandas>=1.1.0->linearmodels) (2.8.2)\n",
            "Requirement already satisfied: pytz>=2020.1 in /usr/local/lib/python3.10/dist-packages (from pandas>=1.1.0->linearmodels) (2022.7.1)\n",
            "Requirement already satisfied: packaging>=20.0 in /usr/local/lib/python3.10/dist-packages (from setuptools-scm[toml]<8.0.0,>=7.0.0->linearmodels) (23.1)\n",
            "Requirement already satisfied: setuptools in /usr/local/lib/python3.10/dist-packages (from setuptools-scm[toml]<8.0.0,>=7.0.0->linearmodels) (67.7.2)\n",
            "Requirement already satisfied: tomli>=1.0.0 in /usr/local/lib/python3.10/dist-packages (from setuptools-scm[toml]<8.0.0,>=7.0.0->linearmodels) (2.0.1)\n",
            "Requirement already satisfied: patsy>=0.5.2 in /usr/local/lib/python3.10/dist-packages (from statsmodels>=0.12.0->linearmodels) (0.5.3)\n",
            "Requirement already satisfied: six in /usr/local/lib/python3.10/dist-packages (from patsy>=0.5.2->statsmodels>=0.12.0->linearmodels) (1.16.0)\n",
            "Installing collected packages: setuptools-scm, mypy-extensions, interface-meta, astor, pyhdfe, formulaic, linearmodels\n",
            "Successfully installed astor-0.8.1 formulaic-0.6.1 interface-meta-1.3.0 linearmodels-5.0 mypy-extensions-1.0.0 pyhdfe-0.1.2 setuptools-scm-7.1.0\n"
          ]
        }
      ],
      "source": [
        "!pip install causaldata\n",
        "!pip install linearmodels\n",
        "import linearmodels as lm\n",
        "from causaldata import organ_donations\n"
      ]
    },
    {
      "cell_type": "code",
      "source": [
        "od = organ_donations.load_pandas (). data"
      ],
      "metadata": {
        "id": "iKmuhQo7K6Ol"
      },
      "execution_count": 3,
      "outputs": []
    },
    {
      "cell_type": "code",
      "source": [
        "# Create Treatment Variable\n",
        "od['California'] = od['State'] == 'California'\n",
        "od['After'] = od['Quarter_Num'] > 3\n",
        "od['Treated'] = 1*(od['California'] & od['After'])"
      ],
      "metadata": {
        "id": "x4VhR2b0LFSq"
      },
      "execution_count": 4,
      "outputs": []
    },
    {
      "cell_type": "code",
      "source": [
        "# Set our individual and time (index) for our data\n",
        "od = od.set_index (['State','Quarter_Num'])"
      ],
      "metadata": {
        "id": "U6ZsR2LHLRHG"
      },
      "execution_count": 5,
      "outputs": []
    },
    {
      "cell_type": "code",
      "source": [
        "mod = lm.PanelOLS.from_formula('''Rate ~ Treated + EntityEffects + TimeEffects''', od)"
      ],
      "metadata": {
        "id": "71dvnA8jLTnI"
      },
      "execution_count": 6,
      "outputs": []
    },
    {
      "cell_type": "code",
      "source": [
        "# Specify clustering when we fit the model\n",
        "clfe = mod.fit(cov_type = 'clustered',\n",
        "               cluster_entity = True)\n",
        "print(clfe)"
      ],
      "metadata": {
        "colab": {
          "base_uri": "https://localhost:8080/"
        },
        "id": "85JCgG1OLWlQ",
        "outputId": "b4af4f2d-7869-4e86-9d07-1548b02f67b0"
      },
      "execution_count": 7,
      "outputs": [
        {
          "output_type": "stream",
          "name": "stdout",
          "text": [
            "                          PanelOLS Estimation Summary                           \n",
            "================================================================================\n",
            "Dep. Variable:                   Rate   R-squared:                        0.0092\n",
            "Estimator:                   PanelOLS   R-squared (Between):             -0.0010\n",
            "No. Observations:                 162   R-squared (Within):              -0.0021\n",
            "Date:                Mon, Jun 12 2023   R-squared (Overall):             -0.0010\n",
            "Time:                        19:56:07   Log-likelihood                    388.57\n",
            "Cov. Estimator:             Clustered                                           \n",
            "                                        F-statistic:                      1.2006\n",
            "Entities:                          27   P-value                           0.2752\n",
            "Avg Obs:                       6.0000   Distribution:                   F(1,129)\n",
            "Min Obs:                       6.0000                                           \n",
            "Max Obs:                       6.0000   F-statistic (robust):             11.525\n",
            "                                        P-value                           0.0009\n",
            "Time periods:                       6   Distribution:                   F(1,129)\n",
            "Avg Obs:                       27.000                                           \n",
            "Min Obs:                       27.000                                           \n",
            "Max Obs:                       27.000                                           \n",
            "                                                                                \n",
            "                             Parameter Estimates                              \n",
            "==============================================================================\n",
            "            Parameter  Std. Err.     T-stat    P-value    Lower CI    Upper CI\n",
            "------------------------------------------------------------------------------\n",
            "Treated       -0.0225     0.0066    -3.3949     0.0009     -0.0355     -0.0094\n",
            "==============================================================================\n",
            "\n",
            "F-test for Poolability: 191.71\n",
            "P-value: 0.0000\n",
            "Distribution: F(31,129)\n",
            "\n",
            "Included effects: Entity, Time\n"
          ]
        }
      ]
    },
    {
      "cell_type": "markdown",
      "source": [
        "#Placebo test para \"testear\" el supuesto de parallel trends"
      ],
      "metadata": {
        "id": "uJtbPbrqNTRz"
      }
    },
    {
      "cell_type": "code",
      "source": [
        "od = organ_donations.load_pandas (). data"
      ],
      "metadata": {
        "id": "5R_4NeFyLcZF"
      },
      "execution_count": 8,
      "outputs": []
    },
    {
      "cell_type": "code",
      "source": [
        "# Keep only pre-treatment data\n",
        "od = od.loc[od['Quarter_Num'] <= 3]"
      ],
      "metadata": {
        "id": "_dNPb0abNfsJ"
      },
      "execution_count": 9,
      "outputs": []
    },
    {
      "cell_type": "code",
      "source": [
        "# Create fake treatment variables\n",
        "od['California'] = od['State'] == 'California'\n",
        "od['FakeAfter1'] = od['Quarter_Num'] > 1\n",
        "od['FakeAfter2'] = od['Quarter_Num'] > 2\n",
        "od['FakeTreat1'] = 1*(od['California'] & od['FakeAfter1'])\n",
        "od['FakeTreat2'] = 1*(od['California'] & od['FakeAfter2'])"
      ],
      "metadata": {
        "colab": {
          "base_uri": "https://localhost:8080/"
        },
        "id": "PXoPzxRvNiYS",
        "outputId": "4e3e01bd-cc45-42ca-facd-97600599a2a0"
      },
      "execution_count": 10,
      "outputs": [
        {
          "output_type": "stream",
          "name": "stderr",
          "text": [
            "<ipython-input-10-47da61c46657>:2: SettingWithCopyWarning: \n",
            "A value is trying to be set on a copy of a slice from a DataFrame.\n",
            "Try using .loc[row_indexer,col_indexer] = value instead\n",
            "\n",
            "See the caveats in the documentation: https://pandas.pydata.org/pandas-docs/stable/user_guide/indexing.html#returning-a-view-versus-a-copy\n",
            "  od['California'] = od['State'] == 'California'\n",
            "<ipython-input-10-47da61c46657>:3: SettingWithCopyWarning: \n",
            "A value is trying to be set on a copy of a slice from a DataFrame.\n",
            "Try using .loc[row_indexer,col_indexer] = value instead\n",
            "\n",
            "See the caveats in the documentation: https://pandas.pydata.org/pandas-docs/stable/user_guide/indexing.html#returning-a-view-versus-a-copy\n",
            "  od['FakeAfter1'] = od['Quarter_Num'] > 1\n",
            "<ipython-input-10-47da61c46657>:4: SettingWithCopyWarning: \n",
            "A value is trying to be set on a copy of a slice from a DataFrame.\n",
            "Try using .loc[row_indexer,col_indexer] = value instead\n",
            "\n",
            "See the caveats in the documentation: https://pandas.pydata.org/pandas-docs/stable/user_guide/indexing.html#returning-a-view-versus-a-copy\n",
            "  od['FakeAfter2'] = od['Quarter_Num'] > 2\n",
            "<ipython-input-10-47da61c46657>:5: SettingWithCopyWarning: \n",
            "A value is trying to be set on a copy of a slice from a DataFrame.\n",
            "Try using .loc[row_indexer,col_indexer] = value instead\n",
            "\n",
            "See the caveats in the documentation: https://pandas.pydata.org/pandas-docs/stable/user_guide/indexing.html#returning-a-view-versus-a-copy\n",
            "  od['FakeTreat1'] = 1*(od['California'] & od['FakeAfter1'])\n",
            "<ipython-input-10-47da61c46657>:6: SettingWithCopyWarning: \n",
            "A value is trying to be set on a copy of a slice from a DataFrame.\n",
            "Try using .loc[row_indexer,col_indexer] = value instead\n",
            "\n",
            "See the caveats in the documentation: https://pandas.pydata.org/pandas-docs/stable/user_guide/indexing.html#returning-a-view-versus-a-copy\n",
            "  od['FakeTreat2'] = 1*(od['California'] & od['FakeAfter2'])\n"
          ]
        }
      ]
    },
    {
      "cell_type": "code",
      "source": [
        "# Set our individual and time (index) for our data\n",
        "od = od.set_index (['State','Quarter_Num'])\n"
      ],
      "metadata": {
        "id": "ecQ4Cd3NNsAx"
      },
      "execution_count": 11,
      "outputs": []
    },
    {
      "cell_type": "code",
      "source": [
        "# Run the same model as before\n",
        "# but with our fake treatment variables\n",
        "mod1 = lm.PanelOLS.from_formula('''Rate ~ FakeTreat1 + EntityEffects + TimeEffects''',od)\n",
        "mod2 = lm.PanelOLS.from_formula('''Rate ~ FakeTreat2 + EntityEffects + TimeEffects''',od)"
      ],
      "metadata": {
        "id": "H06EsFksNwpd"
      },
      "execution_count": 12,
      "outputs": []
    },
    {
      "cell_type": "code",
      "source": [
        "clfe1 = mod1.fit(cov_type = 'clustered', cluster_entity = True)\n",
        "clfe2 = mod1.fit(cov_type = 'clustered', cluster_entity = True)"
      ],
      "metadata": {
        "id": "bUHyqG4WN4ug"
      },
      "execution_count": 14,
      "outputs": []
    },
    {
      "cell_type": "code",
      "source": [
        "print(clfe1, clfe2)"
      ],
      "metadata": {
        "colab": {
          "base_uri": "https://localhost:8080/"
        },
        "id": "JMTmD8mJN-PN",
        "outputId": "2941691e-f06e-4027-97d3-747e8b6539a1"
      },
      "execution_count": 17,
      "outputs": [
        {
          "output_type": "stream",
          "name": "stdout",
          "text": [
            "                          PanelOLS Estimation Summary                           \n",
            "================================================================================\n",
            "Dep. Variable:                   Rate   R-squared:                        0.0019\n",
            "Estimator:                   PanelOLS   R-squared (Between):              0.0004\n",
            "No. Observations:                  81   R-squared (Within):               0.0025\n",
            "Date:                Mon, Jun 12 2023   R-squared (Overall):              0.0004\n",
            "Time:                        20:07:17   Log-likelihood                    240.84\n",
            "Cov. Estimator:             Clustered                                           \n",
            "                                        F-statistic:                      0.0979\n",
            "Entities:                          27   P-value                           0.7556\n",
            "Avg Obs:                       3.0000   Distribution:                    F(1,51)\n",
            "Min Obs:                       3.0000                                           \n",
            "Max Obs:                       3.0000   F-statistic (robust):             0.9733\n",
            "                                        P-value                           0.3285\n",
            "Time periods:                       3   Distribution:                    F(1,51)\n",
            "Avg Obs:                       27.000                                           \n",
            "Min Obs:                       27.000                                           \n",
            "Max Obs:                       27.000                                           \n",
            "                                                                                \n",
            "                             Parameter Estimates                              \n",
            "==============================================================================\n",
            "            Parameter  Std. Err.     T-stat    P-value    Lower CI    Upper CI\n",
            "------------------------------------------------------------------------------\n",
            "FakeTreat1     0.0061     0.0062     0.9866     0.3285     -0.0063      0.0185\n",
            "==============================================================================\n",
            "\n",
            "F-test for Poolability: 282.21\n",
            "P-value: 0.0000\n",
            "Distribution: F(28,51)\n",
            "\n",
            "Included effects: Entity, Time                           PanelOLS Estimation Summary                           \n",
            "================================================================================\n",
            "Dep. Variable:                   Rate   R-squared:                        0.0019\n",
            "Estimator:                   PanelOLS   R-squared (Between):              0.0004\n",
            "No. Observations:                  81   R-squared (Within):               0.0025\n",
            "Date:                Mon, Jun 12 2023   R-squared (Overall):              0.0004\n",
            "Time:                        20:07:17   Log-likelihood                    240.84\n",
            "Cov. Estimator:             Clustered                                           \n",
            "                                        F-statistic:                      0.0979\n",
            "Entities:                          27   P-value                           0.7556\n",
            "Avg Obs:                       3.0000   Distribution:                    F(1,51)\n",
            "Min Obs:                       3.0000                                           \n",
            "Max Obs:                       3.0000   F-statistic (robust):             0.9733\n",
            "                                        P-value                           0.3285\n",
            "Time periods:                       3   Distribution:                    F(1,51)\n",
            "Avg Obs:                       27.000                                           \n",
            "Min Obs:                       27.000                                           \n",
            "Max Obs:                       27.000                                           \n",
            "                                                                                \n",
            "                             Parameter Estimates                              \n",
            "==============================================================================\n",
            "            Parameter  Std. Err.     T-stat    P-value    Lower CI    Upper CI\n",
            "------------------------------------------------------------------------------\n",
            "FakeTreat1     0.0061     0.0062     0.9866     0.3285     -0.0063      0.0185\n",
            "==============================================================================\n",
            "\n",
            "F-test for Poolability: 282.21\n",
            "P-value: 0.0000\n",
            "Distribution: F(28,51)\n",
            "\n",
            "Included effects: Entity, Time\n"
          ]
        }
      ]
    },
    {
      "cell_type": "markdown",
      "source": [
        "#Dynamic treatment effect"
      ],
      "metadata": {
        "id": "iQXZHXVlPja7"
      }
    },
    {
      "cell_type": "code",
      "source": [
        "import pandas as pd\n",
        "import matplotlib as plt"
      ],
      "metadata": {
        "id": "QbvlvpNLOIHk"
      },
      "execution_count": 26,
      "outputs": []
    },
    {
      "cell_type": "code",
      "source": [
        "od = organ_donations.load_pandas (). data"
      ],
      "metadata": {
        "id": "_QHcJ3vePpNY"
      },
      "execution_count": 37,
      "outputs": []
    },
    {
      "cell_type": "code",
      "source": [
        "# Create Treatment Variable\n",
        "od['California'] = od['State'] == 'California'"
      ],
      "metadata": {
        "id": "ZlWEyV0rPqXZ"
      },
      "execution_count": 38,
      "outputs": []
    },
    {
      "cell_type": "code",
      "source": [
        "# Create our interactions by hand,\n",
        "# skipping quarter 3, the last one before treatment\n",
        "for i in [1, 2, 4, 5, 6]:\n",
        "  name = 'INX'+str(i)\n",
        "  od[name] = 1*od['California']\n",
        "  od.loc[od['Quarter_Num'] != i, name] = 0\n"
      ],
      "metadata": {
        "id": "Vnq9QH_FPtqD"
      },
      "execution_count": 39,
      "outputs": []
    },
    {
      "cell_type": "code",
      "source": [
        "# Set our individual and time (index) for our data\n",
        "od = od.set_index (['State','Quarter_Num'])"
      ],
      "metadata": {
        "id": "iraTZW1HP2bH"
      },
      "execution_count": 40,
      "outputs": []
    },
    {
      "cell_type": "code",
      "source": [
        "mod = lm.PanelOLS.from_formula('''Rate ~ INX1 + INX2 + INX4 + INX5 + INX6 + EntityEffects + TimeEffects''',od)"
      ],
      "metadata": {
        "id": "reyWHKluP5xi"
      },
      "execution_count": 41,
      "outputs": []
    },
    {
      "cell_type": "code",
      "source": [
        "# Specify clustering when we fit the model\n",
        "clfe = mod.fit(cov_type = 'clustered', cluster_entity = True)"
      ],
      "metadata": {
        "id": "KO0qgTriP_Fj"
      },
      "execution_count": 42,
      "outputs": []
    },
    {
      "cell_type": "code",
      "source": [
        "# Get coefficients and CIs\n",
        "res = pd.concat([clfe.params , clfe.std_errors], axis = 1)"
      ],
      "metadata": {
        "id": "QoKo-TaBQEOD"
      },
      "execution_count": 43,
      "outputs": []
    },
    {
      "cell_type": "code",
      "source": [
        "# Scale standard error to CI\n",
        "res['ci'] = res['std_error']*1.96"
      ],
      "metadata": {
        "id": "d18KgaF7QHL9"
      },
      "execution_count": 44,
      "outputs": []
    },
    {
      "cell_type": "code",
      "source": [
        "# Add our quarter values\n",
        "res['Quarter_Num'] = [1, 2, 4, 5, 6]"
      ],
      "metadata": {
        "id": "VIubnGu-QR07"
      },
      "execution_count": 45,
      "outputs": []
    },
    {
      "cell_type": "code",
      "source": [
        "# And add our reference period back in\n",
        "reference = pd.DataFrame ([[0,0,0,3]], \n",
        "                          columns = ['parameter ', \n",
        "                                     'lower', \n",
        "                                     'upper', \n",
        "                                     'Quarter_Num '])\n",
        "res = pd.concat([res , reference ])"
      ],
      "metadata": {
        "id": "swcqq6DeQU86"
      },
      "execution_count": 46,
      "outputs": []
    },
    {
      "cell_type": "code",
      "source": [
        "# For plotting , sort and add labels\n",
        "res = res.sort_values('Quarter_Num')"
      ],
      "metadata": {
        "id": "cxwBpbX3QhMs"
      },
      "execution_count": 47,
      "outputs": []
    },
    {
      "cell_type": "code",
      "source": [
        "res['Quarter'] = ['Q42010','Q12011', \n",
        "                   'Q22011','Q32011', \n",
        "                   'Q42011','Q12012']"
      ],
      "metadata": {
        "id": "eODYuC3hQj82"
      },
      "execution_count": 48,
      "outputs": []
    },
    {
      "cell_type": "code",
      "source": [
        "# Plot the estimates as connected lines with error bars\n",
        "plt.pyplot.errorbar(x = 'Quarter', y = 'parameter', yerr = 'ci', data = res)\n",
        "# Add a horizontal line at 0\n",
        "plt.pyplot.axhline(0, linestyle = 'dashed')"
      ],
      "metadata": {
        "colab": {
          "base_uri": "https://localhost:8080/",
          "height": 447
        },
        "id": "Dx5fU60jQpAX",
        "outputId": "d54b48fb-1e6b-4204-db90-11b3d0e2f08b"
      },
      "execution_count": 51,
      "outputs": [
        {
          "output_type": "execute_result",
          "data": {
            "text/plain": [
              "<matplotlib.lines.Line2D at 0x7fa22f1fccd0>"
            ]
          },
          "metadata": {},
          "execution_count": 51
        },
        {
          "output_type": "display_data",
          "data": {
            "text/plain": [
              "<Figure size 640x480 with 1 Axes>"
            ],
            "image/png": "[encoded data removed]"
          },
          "metadata": {}
        }
      ]
    },
    {
      "cell_type": "code",
      "source": [],
      "metadata": {
        "id": "HJHceWCiQ1dt"
      },
      "execution_count": null,
      "outputs": []
    }
  ]
}