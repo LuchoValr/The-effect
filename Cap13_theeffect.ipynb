{
  "nbformat": 4,
  "nbformat_minor": 0,
  "metadata": {
    "colab": {
      "provenance": [],
      "authorship_tag": "ABX9TyN6uqKyJJgcYhbYyedOsAeZ",
      "include_colab_link": true
    },
    "kernelspec": {
      "name": "python3",
      "display_name": "Python 3"
    },
    "language_info": {
      "name": "python"
    }
  },
  "cells": [
    {
      "cell_type": "markdown",
      "metadata": {
        "id": "view-in-github",
        "colab_type": "text"
      },
      "source": [
        "<a href=\"https://colab.research.google.com/github/LuchoValr/The-effect/blob/main/Cap13_theeffect.ipynb\" target=\"_parent\"><img src=\"https://colab.research.google.com/assets/colab-badge.svg\" alt=\"Open In Colab\"/></a>"
      ]
    },
    {
      "cell_type": "markdown",
      "source": [
        "#Haciendo la primera regresion"
      ],
      "metadata": {
        "id": "9Vyl_BqddhUX"
      }
    },
    {
      "cell_type": "code",
      "execution_count": 2,
      "metadata": {
        "colab": {
          "base_uri": "https://localhost:8080/"
        },
        "id": "NmVZa0NJc_H7",
        "outputId": "cd139b01-6289-4261-9f2b-305cf91fb000"
      },
      "outputs": [
        {
          "output_type": "stream",
          "name": "stdout",
          "text": [
            "Looking in indexes: https://pypi.org/simple, https://us-python.pkg.dev/colab-wheels/public/simple/\n",
            "Collecting Stargazer\n",
            "  Downloading stargazer-0.0.5-py3-none-any.whl (9.7 kB)\n",
            "Installing collected packages: Stargazer\n",
            "Successfully installed Stargazer-0.0.5\n",
            "Looking in indexes: https://pypi.org/simple, https://us-python.pkg.dev/colab-wheels/public/simple/\n",
            "Collecting causaldata\n",
            "  Downloading causaldata-0.1.3.tar.gz (2.6 MB)\n",
            "\u001b[2K     \u001b[90m━━━━━━━━━━━━━━━━━━━━━━━━━━━━━━━━━━━━━━━━\u001b[0m \u001b[32m2.6/2.6 MB\u001b[0m \u001b[31m72.5 MB/s\u001b[0m eta \u001b[36m0:00:00\u001b[0m\n",
            "\u001b[?25h  Preparing metadata (setup.py) ... \u001b[?25l\u001b[?25hdone\n",
            "Requirement already satisfied: statsmodels in /usr/local/lib/python3.10/dist-packages (from causaldata) (0.13.5)\n",
            "Requirement already satisfied: pandas in /usr/local/lib/python3.10/dist-packages (from causaldata) (1.5.3)\n",
            "Requirement already satisfied: python-dateutil>=2.8.1 in /usr/local/lib/python3.10/dist-packages (from pandas->causaldata) (2.8.2)\n",
            "Requirement already satisfied: pytz>=2020.1 in /usr/local/lib/python3.10/dist-packages (from pandas->causaldata) (2022.7.1)\n",
            "Requirement already satisfied: numpy>=1.21.0 in /usr/local/lib/python3.10/dist-packages (from pandas->causaldata) (1.22.4)\n",
            "Requirement already satisfied: patsy>=0.5.2 in /usr/local/lib/python3.10/dist-packages (from statsmodels->causaldata) (0.5.3)\n",
            "Requirement already satisfied: packaging>=21.3 in /usr/local/lib/python3.10/dist-packages (from statsmodels->causaldata) (23.1)\n",
            "Requirement already satisfied: scipy>=1.3 in /usr/local/lib/python3.10/dist-packages (from statsmodels->causaldata) (1.10.1)\n",
            "Requirement already satisfied: six in /usr/local/lib/python3.10/dist-packages (from patsy>=0.5.2->statsmodels->causaldata) (1.16.0)\n",
            "Building wheels for collected packages: causaldata\n",
            "  Building wheel for causaldata (setup.py) ... \u001b[?25l\u001b[?25hdone\n",
            "  Created wheel for causaldata: filename=causaldata-0.1.3-py3-none-any.whl size=2645603 sha256=54f430801771fe7d1a2749b45cc335a1c57085d6aca59f01a0a3137171b4528b\n",
            "  Stored in directory: /root/.cache/pip/wheels/4a/8f/9f/13d3a7ab29b8a8c68f3e5dcc0fe00d0e8eef62fc508a20c7c6\n",
            "Successfully built causaldata\n",
            "Installing collected packages: causaldata\n",
            "Successfully installed causaldata-0.1.3\n"
          ]
        }
      ],
      "source": [
        "!pip install Stargazer\n",
        "!pip install causaldata\n",
        "import pandas as pd\n",
        "import statsmodels.formula.api as sm\n",
        "from stargazer.stargazer import Stargazer\n",
        "from causaldata import restaurant_inspections"
      ]
    },
    {
      "cell_type": "code",
      "source": [
        "res = restaurant_inspections.load_pandas().data\n",
        "res.head()"
      ],
      "metadata": {
        "colab": {
          "base_uri": "https://localhost:8080/",
          "height": 206
        },
        "id": "4LCtdVyedyAy",
        "outputId": "294636ba-1674-4f16-a57a-88f9e5204492"
      },
      "execution_count": 12,
      "outputs": [
        {
          "output_type": "execute_result",
          "data": {
            "text/plain": [
              "              business_name  inspection_score  Year  NumberofLocations  \\\n",
              "0             MCGINLEYS PUB                94  2017                  9   \n",
              "1            VILLAGE INN #1                86  2015                 66   \n",
              "2            RONNIE SUSHI 2                80  2016                 79   \n",
              "3  FRED MEYER - RETAIL FISH                96  2003                 86   \n",
              "4                 PHO GRILL                83  2017                 53   \n",
              "\n",
              "   Weekend  \n",
              "0    False  \n",
              "1    False  \n",
              "2    False  \n",
              "3    False  \n",
              "4    False  "
            ],
            "text/html": [
              "\n",
              "  <div id=\"df-0ccfbfaa-89d1-4e30-9ea9-a18114ca99b7\">\n",
              "    <div class=\"colab-df-container\">\n",
              "      <div>\n",
              "<style scoped>\n",
              "    .dataframe tbody tr th:only-of-type {\n",
              "        vertical-align: middle;\n",
              "    }\n",
              "\n",
              "    .dataframe tbody tr th {\n",
              "        vertical-align: top;\n",
              "    }\n",
              "\n",
              "    .dataframe thead th {\n",
              "        text-align: right;\n",
              "    }\n",
              "</style>\n",
              "<table border=\"1\" class=\"dataframe\">\n",
              "  <thead>\n",
              "    <tr style=\"text-align: right;\">\n",
              "      <th></th>\n",
              "      <th>business_name</th>\n",
              "      <th>inspection_score</th>\n",
              "      <th>Year</th>\n",
              "      <th>NumberofLocations</th>\n",
              "      <th>Weekend</th>\n",
              "    </tr>\n",
              "  </thead>\n",
              "  <tbody>\n",
              "    <tr>\n",
              "      <th>0</th>\n",
              "      <td>MCGINLEYS PUB</td>\n",
              "      <td>94</td>\n",
              "      <td>2017</td>\n",
              "      <td>9</td>\n",
              "      <td>False</td>\n",
              "    </tr>\n",
              "    <tr>\n",
              "      <th>1</th>\n",
              "      <td>VILLAGE INN #1</td>\n",
              "      <td>86</td>\n",
              "      <td>2015</td>\n",
              "      <td>66</td>\n",
              "      <td>False</td>\n",
              "    </tr>\n",
              "    <tr>\n",
              "      <th>2</th>\n",
              "      <td>RONNIE SUSHI 2</td>\n",
              "      <td>80</td>\n",
              "      <td>2016</td>\n",
              "      <td>79</td>\n",
              "      <td>False</td>\n",
              "    </tr>\n",
              "    <tr>\n",
              "      <th>3</th>\n",
              "      <td>FRED MEYER - RETAIL FISH</td>\n",
              "      <td>96</td>\n",
              "      <td>2003</td>\n",
              "      <td>86</td>\n",
              "      <td>False</td>\n",
              "    </tr>\n",
              "    <tr>\n",
              "      <th>4</th>\n",
              "      <td>PHO GRILL</td>\n",
              "      <td>83</td>\n",
              "      <td>2017</td>\n",
              "      <td>53</td>\n",
              "      <td>False</td>\n",
              "    </tr>\n",
              "  </tbody>\n",
              "</table>\n",
              "</div>\n",
              "      <button class=\"colab-df-convert\" onclick=\"convertToInteractive('df-0ccfbfaa-89d1-4e30-9ea9-a18114ca99b7')\"\n",
              "              title=\"Convert this dataframe to an interactive table.\"\n",
              "              style=\"display:none;\">\n",
              "        \n",
              "  <svg xmlns=\"http://www.w3.org/2000/svg\" height=\"24px\"viewBox=\"0 0 24 24\"\n",
              "       width=\"24px\">\n",
              "    <path d=\"M0 0h24v24H0V0z\" fill=\"none\"/>\n",
              "    <path d=\"M18.56 5.44l.94 2.06.94-2.06 2.06-.94-2.06-.94-.94-2.06-.94 2.06-2.06.94zm-11 1L8.5 8.5l.94-2.06 2.06-.94-2.06-.94L8.5 2.5l-.94 2.06-2.06.94zm10 10l.94 2.06.94-2.06 2.06-.94-2.06-.94-.94-2.06-.94 2.06-2.06.94z\"/><path d=\"M17.41 7.96l-1.37-1.37c-.4-.4-.92-.59-1.43-.59-.52 0-1.04.2-1.43.59L10.3 9.45l-7.72 7.72c-.78.78-.78 2.05 0 2.83L4 21.41c.39.39.9.59 1.41.59.51 0 1.02-.2 1.41-.59l7.78-7.78 2.81-2.81c.8-.78.8-2.07 0-2.86zM5.41 20L4 18.59l7.72-7.72 1.47 1.35L5.41 20z\"/>\n",
              "  </svg>\n",
              "      </button>\n",
              "      \n",
              "  <style>\n",
              "    .colab-df-container {\n",
              "      display:flex;\n",
              "      flex-wrap:wrap;\n",
              "      gap: 12px;\n",
              "    }\n",
              "\n",
              "    .colab-df-convert {\n",
              "      background-color: #E8F0FE;\n",
              "      border: none;\n",
              "      border-radius: 50%;\n",
              "      cursor: pointer;\n",
              "      display: none;\n",
              "      fill: #1967D2;\n",
              "      height: 32px;\n",
              "      padding: 0 0 0 0;\n",
              "      width: 32px;\n",
              "    }\n",
              "\n",
              "    .colab-df-convert:hover {\n",
              "      background-color: #E2EBFA;\n",
              "      box-shadow: 0px 1px 2px rgba(60, 64, 67, 0.3), 0px 1px 3px 1px rgba(60, 64, 67, 0.15);\n",
              "      fill: #174EA6;\n",
              "    }\n",
              "\n",
              "    [theme=dark] .colab-df-convert {\n",
              "      background-color: #3B4455;\n",
              "      fill: #D2E3FC;\n",
              "    }\n",
              "\n",
              "    [theme=dark] .colab-df-convert:hover {\n",
              "      background-color: #434B5C;\n",
              "      box-shadow: 0px 1px 3px 1px rgba(0, 0, 0, 0.15);\n",
              "      filter: drop-shadow(0px 1px 2px rgba(0, 0, 0, 0.3));\n",
              "      fill: #FFFFFF;\n",
              "    }\n",
              "  </style>\n",
              "\n",
              "      <script>\n",
              "        const buttonEl =\n",
              "          document.querySelector('#df-0ccfbfaa-89d1-4e30-9ea9-a18114ca99b7 button.colab-df-convert');\n",
              "        buttonEl.style.display =\n",
              "          google.colab.kernel.accessAllowed ? 'block' : 'none';\n",
              "\n",
              "        async function convertToInteractive(key) {\n",
              "          const element = document.querySelector('#df-0ccfbfaa-89d1-4e30-9ea9-a18114ca99b7');\n",
              "          const dataTable =\n",
              "            await google.colab.kernel.invokeFunction('convertToInteractive',\n",
              "                                                     [key], {});\n",
              "          if (!dataTable) return;\n",
              "\n",
              "          const docLinkHtml = 'Like what you see? Visit the ' +\n",
              "            '<a target=\"_blank\" href=https://colab.research.google.com/notebooks/data_table.ipynb>data table notebook</a>'\n",
              "            + ' to learn more about interactive tables.';\n",
              "          element.innerHTML = '';\n",
              "          dataTable['output_type'] = 'display_data';\n",
              "          await google.colab.output.renderOutput(dataTable, element);\n",
              "          const docLink = document.createElement('div');\n",
              "          docLink.innerHTML = docLinkHtml;\n",
              "          element.appendChild(docLink);\n",
              "        }\n",
              "      </script>\n",
              "    </div>\n",
              "  </div>\n",
              "  "
            ]
          },
          "metadata": {},
          "execution_count": 12
        }
      ]
    },
    {
      "cell_type": "code",
      "source": [
        "# Perform the first , one-predictor regression\n",
        "# use the sm.ols() function , with ~ telling us what\n",
        "# the dependent variable varies over\n",
        "m1 = sm.ols(formula = 'inspection_score ~ NumberofLocations ', data = res).fit()"
      ],
      "metadata": {
        "id": "eyLJ7DpPdzyb"
      },
      "execution_count": 13,
      "outputs": []
    },
    {
      "cell_type": "code",
      "source": [
        "# Now add year as a control\n",
        "# Just use + to add more terms to the regression\n",
        "m2 = sm.ols(formula = 'inspection_score ~ NumberofLocations + Year', data = res).fit()"
      ],
      "metadata": {
        "id": "0g5SyUq7efLY"
      },
      "execution_count": 14,
      "outputs": []
    },
    {
      "cell_type": "code",
      "source": [
        "f = open('regression_table.html', 'w')\n",
        "f"
      ],
      "metadata": {
        "colab": {
          "base_uri": "https://localhost:8080/"
        },
        "id": "CHmseFaGd3ox",
        "outputId": "efefadf6-236b-4f1c-f960-0ed710940f23"
      },
      "execution_count": 15,
      "outputs": [
        {
          "output_type": "execute_result",
          "data": {
            "text/plain": [
              "<_io.TextIOWrapper name='regression_table.html' mode='w' encoding='UTF-8'>"
            ]
          },
          "metadata": {},
          "execution_count": 15
        }
      ]
    },
    {
      "cell_type": "code",
      "source": [
        "regtable = Stargazer ([m1, m2])\n",
        "f.write(regtable.render_html ())\n",
        "f.close()"
      ],
      "metadata": {
        "id": "Ifr8PidQd40v"
      },
      "execution_count": 16,
      "outputs": []
    },
    {
      "cell_type": "code",
      "source": [
        "regtable"
      ],
      "metadata": {
        "colab": {
          "base_uri": "https://localhost:8080/",
          "height": 368
        },
        "id": "Y_dOTbnWeo7T",
        "outputId": "5e6c6a8f-298f-4458-9eb4-4f4b6de88901"
      },
      "execution_count": 18,
      "outputs": [
        {
          "output_type": "execute_result",
          "data": {
            "text/plain": [
              "<stargazer.stargazer.Stargazer at 0x7fb0d08f3820>"
            ],
            "text/html": [
              "<table style=\"text-align:center\"><tr><td colspan=\"3\" style=\"border-bottom: 1px solid black\"></td></tr><tr><td style=\"text-align:left\"></td><td colspan=\"2\"><em>Dependent variable:inspection_score</em></td></tr><tr><td style=\"text-align:left\"></td><tr><td style=\"text-align:left\"></td><td>(1)</td><td>(2)</td></tr><tr><td colspan=\"3\" style=\"border-bottom: 1px solid black\"></td></tr><tr><td style=\"text-align:left\">Intercept</td><td>94.866<sup>***</sup></td><td>225.333<sup>***</sup></td></tr><tr><td style=\"text-align:left\"></td><td>(0.046)</td><td>(12.411)</td></tr><tr><td style=\"text-align:left\">NumberofLocations</td><td>-0.019<sup>***</sup></td><td>-0.019<sup>***</sup></td></tr><tr><td style=\"text-align:left\"></td><td>(0.000)</td><td>(0.000)</td></tr><tr><td style=\"text-align:left\">Year</td><td></td><td>-0.065<sup>***</sup></td></tr><tr><td style=\"text-align:left\"></td><td></td><td>(0.006)</td></tr><td colspan=\"3\" style=\"border-bottom: 1px solid black\"></td></tr><tr><td style=\"text-align: left\">Observations</td><td>27,178</td><td>27,178</td></tr><tr><td style=\"text-align: left\">R<sup>2</sup></td><td>0.065</td><td>0.068</td></tr><tr><td style=\"text-align: left\">Adjusted R<sup>2</sup></td><td>0.065</td><td>0.068</td></tr><tr><td style=\"text-align: left\">Residual Std. Error</td><td>6.052 (df=27176)</td><td>6.039 (df=27175)</td></tr><tr><td style=\"text-align: left\">F Statistic</td><td>1876.705<sup>***</sup> (df=1; 27176)</td><td>997.386<sup>***</sup> (df=2; 27175)</td></tr><tr><td colspan=\"3\" style=\"border-bottom: 1px solid black\"></td></tr><tr><td style=\"text-align: left\">Note:</td>\n",
              " <td colspan=\"2\" style=\"text-align: right\">\n",
              "  <sup>*</sup>p&lt;0.1;\n",
              "  <sup>**</sup>p&lt;0.05;\n",
              "  <sup>***</sup>p&lt;0.01\n",
              " </td></tr></table>"
            ]
          },
          "metadata": {},
          "execution_count": 18
        }
      ]
    },
    {
      "cell_type": "markdown",
      "source": [
        "#Regresion con polinomios"
      ],
      "metadata": {
        "id": "Y7pQu3Jm1AqZ"
      }
    },
    {
      "cell_type": "code",
      "source": [
        "df = restaurant_inspections.load_pandas().data"
      ],
      "metadata": {
        "id": "KU44PRRYesv5"
      },
      "execution_count": 20,
      "outputs": []
    },
    {
      "cell_type": "code",
      "source": [
        "# Use I() to insert calculations of your variables\n",
        "# and ** to square\n",
        "m1 = sm.ols(formula = '''inspection_score ~ NumberofLocations + I(NumberofLocations**2) + Year''', data = df).fit()"
      ],
      "metadata": {
        "id": "NO2qMP3D1NiF"
      },
      "execution_count": 22,
      "outputs": []
    },
    {
      "cell_type": "code",
      "source": [
        "# m1.summary() would do here, but if we wanted\n",
        "# to write to file we could extend Stargazer...\n",
        "Stargazer ([m1])"
      ],
      "metadata": {
        "colab": {
          "base_uri": "https://localhost:8080/",
          "height": 414
        },
        "id": "8K9dgQCa1W1K",
        "outputId": "960d03c9-3220-4616-a6cf-f6fbfb1104e4"
      },
      "execution_count": 23,
      "outputs": [
        {
          "output_type": "execute_result",
          "data": {
            "text/plain": [
              "<stargazer.stargazer.Stargazer at 0x7fb0d055c070>"
            ],
            "text/html": [
              "<table style=\"text-align:center\"><tr><td colspan=\"2\" style=\"border-bottom: 1px solid black\"></td></tr><tr><td style=\"text-align:left\"></td><td colspan=\"1\"><em>Dependent variable:inspection_score</em></td></tr><tr><td style=\"text-align:left\"></td><tr><td style=\"text-align:left\"></td><td>(1)</td></tr><tr><td colspan=\"2\" style=\"border-bottom: 1px solid black\"></td></tr><tr><td style=\"text-align:left\">I(NumberofLocations ** 2)</td><td>0.000<sup>***</sup></td></tr><tr><td style=\"text-align:left\"></td><td>(0.000)</td></tr><tr><td style=\"text-align:left\">Intercept</td><td>362.834<sup>***</sup></td></tr><tr><td style=\"text-align:left\"></td><td>(11.601)</td></tr><tr><td style=\"text-align:left\">NumberofLocations</td><td>-0.084<sup>***</sup></td></tr><tr><td style=\"text-align:left\"></td><td>(0.001)</td></tr><tr><td style=\"text-align:left\">Year</td><td>-0.132<sup>***</sup></td></tr><tr><td style=\"text-align:left\"></td><td>(0.006)</td></tr><td colspan=\"2\" style=\"border-bottom: 1px solid black\"></td></tr><tr><td style=\"text-align: left\">Observations</td><td>27,178</td></tr><tr><td style=\"text-align: left\">R<sup>2</sup></td><td>0.210</td></tr><tr><td style=\"text-align: left\">Adjusted R<sup>2</sup></td><td>0.210</td></tr><tr><td style=\"text-align: left\">Residual Std. Error</td><td>5.563 (df=27174)</td></tr><tr><td style=\"text-align: left\">F Statistic</td><td>2402.353<sup>***</sup> (df=3; 27174)</td></tr><tr><td colspan=\"2\" style=\"border-bottom: 1px solid black\"></td></tr><tr><td style=\"text-align: left\">Note:</td>\n",
              " <td colspan=\"1\" style=\"text-align: right\">\n",
              "  <sup>*</sup>p&lt;0.1;\n",
              "  <sup>**</sup>p&lt;0.05;\n",
              "  <sup>***</sup>p&lt;0.01\n",
              " </td></tr></table>"
            ]
          },
          "metadata": {},
          "execution_count": 23
        }
      ]
    },
    {
      "cell_type": "code",
      "source": [
        "# Use t_test to test linear combinations of coefficients\n",
        "# be sure to test them against 0 to get the appropriate result\n",
        "# coef is the estimate here, std err the SE.\n",
        "# We know this is the right equation to use because we know\n",
        "# the derivative - we need to figure that out first\n",
        "m1.t_test('NumberofLocations + 2*I(NumberofLocations ** 2)*100 = 0')"
      ],
      "metadata": {
        "colab": {
          "base_uri": "https://localhost:8080/"
        },
        "id": "zAkist1D1g00",
        "outputId": "9ce1939a-c324-4df7-fec4-3284e26096a6"
      },
      "execution_count": 24,
      "outputs": [
        {
          "output_type": "execute_result",
          "data": {
            "text/plain": [
              "<class 'statsmodels.stats.contrast.ContrastResults'>\n",
              "                             Test for Constraints                             \n",
              "==============================================================================\n",
              "                 coef    std err          t      P>|t|      [0.025      0.975]\n",
              "------------------------------------------------------------------------------\n",
              "c0            -0.0597      0.001    -84.505      0.000      -0.061      -0.058\n",
              "=============================================================================="
            ]
          },
          "metadata": {},
          "execution_count": 24
        }
      ]
    },
    {
      "cell_type": "markdown",
      "source": [
        "#Regresion con termino de iteracion"
      ],
      "metadata": {
        "id": "JMc5iR8a1uBa"
      }
    },
    {
      "cell_type": "code",
      "source": [
        "df = restaurant_inspections.load_pandas().data"
      ],
      "metadata": {
        "id": "r3ORj9O11lNU"
      },
      "execution_count": 25,
      "outputs": []
    },
    {
      "cell_type": "code",
      "source": [
        "# Use * to include two variables independently\n",
        "# plus their interaction\n",
        "# (: is interaction -only, we rarely use it)\n",
        "m1 = sm.ols(formula = '''inspection_score ~ NumberofLocations*Weekend + Year''', data = df).fit()"
      ],
      "metadata": {
        "id": "jGNLeR2J17MO"
      },
      "execution_count": 26,
      "outputs": []
    },
    {
      "cell_type": "code",
      "source": [
        "# m1.summary() would do here, but if we wanted\n",
        "# to write to file we could extend Stargazer...\n",
        "Stargazer ([m1])"
      ],
      "metadata": {
        "colab": {
          "base_uri": "https://localhost:8080/",
          "height": 460
        },
        "id": "3N518JqC2FLg",
        "outputId": "85f5c3bf-d6b9-435f-b9b9-c53ec880fa4c"
      },
      "execution_count": 27,
      "outputs": [
        {
          "output_type": "execute_result",
          "data": {
            "text/plain": [
              "<stargazer.stargazer.Stargazer at 0x7fb0d08f2260>"
            ],
            "text/html": [
              "<table style=\"text-align:center\"><tr><td colspan=\"2\" style=\"border-bottom: 1px solid black\"></td></tr><tr><td style=\"text-align:left\"></td><td colspan=\"1\"><em>Dependent variable:inspection_score</em></td></tr><tr><td style=\"text-align:left\"></td><tr><td style=\"text-align:left\"></td><td>(1)</td></tr><tr><td colspan=\"2\" style=\"border-bottom: 1px solid black\"></td></tr><tr><td style=\"text-align:left\">Intercept</td><td>225.126<sup>***</sup></td></tr><tr><td style=\"text-align:left\"></td><td>(12.415)</td></tr><tr><td style=\"text-align:left\">NumberofLocations</td><td>-0.019<sup>***</sup></td></tr><tr><td style=\"text-align:left\"></td><td>(0.000)</td></tr><tr><td style=\"text-align:left\">NumberofLocations:Weekend[T.True]</td><td>-0.010<sup></sup></td></tr><tr><td style=\"text-align:left\"></td><td>(0.008)</td></tr><tr><td style=\"text-align:left\">Weekend[T.True]</td><td>1.759<sup>***</sup></td></tr><tr><td style=\"text-align:left\"></td><td>(0.488)</td></tr><tr><td style=\"text-align:left\">Year</td><td>-0.065<sup>***</sup></td></tr><tr><td style=\"text-align:left\"></td><td>(0.006)</td></tr><td colspan=\"2\" style=\"border-bottom: 1px solid black\"></td></tr><tr><td style=\"text-align: left\">Observations</td><td>27,178</td></tr><tr><td style=\"text-align: left\">R<sup>2</sup></td><td>0.069</td></tr><tr><td style=\"text-align: left\">Adjusted R<sup>2</sup></td><td>0.069</td></tr><tr><td style=\"text-align: left\">Residual Std. Error</td><td>6.038 (df=27173)</td></tr><tr><td style=\"text-align: left\">F Statistic</td><td>502.255<sup>***</sup> (df=4; 27173)</td></tr><tr><td colspan=\"2\" style=\"border-bottom: 1px solid black\"></td></tr><tr><td style=\"text-align: left\">Note:</td>\n",
              " <td colspan=\"1\" style=\"text-align: right\">\n",
              "  <sup>*</sup>p&lt;0.1;\n",
              "  <sup>**</sup>p&lt;0.05;\n",
              "  <sup>***</sup>p&lt;0.01\n",
              " </td></tr></table>"
            ]
          },
          "metadata": {},
          "execution_count": 27
        }
      ]
    },
    {
      "cell_type": "code",
      "source": [
        "# Use t_test to test linear combinations of coefficients\n",
        "# be sure to test them against 0 to get the appropriate result\n",
        "# coef is the estimate here, std err the SE.\n",
        "# We got the proper coefficient names from reading the reg table\n",
        "m1.t_test('NumberofLocations + NumberofLocations:Weekend[T.True] = 0')"
      ],
      "metadata": {
        "colab": {
          "base_uri": "https://localhost:8080/"
        },
        "id": "oBh5aA342L5e",
        "outputId": "b242c5eb-54f0-471c-ce58-c4f7fce5e59a"
      },
      "execution_count": 28,
      "outputs": [
        {
          "output_type": "execute_result",
          "data": {
            "text/plain": [
              "<class 'statsmodels.stats.contrast.ContrastResults'>\n",
              "                             Test for Constraints                             \n",
              "==============================================================================\n",
              "                 coef    std err          t      P>|t|      [0.025      0.975]\n",
              "------------------------------------------------------------------------------\n",
              "c0            -0.0289      0.008     -3.851      0.000      -0.044      -0.014\n",
              "=============================================================================="
            ]
          },
          "metadata": {},
          "execution_count": 28
        }
      ]
    },
    {
      "cell_type": "markdown",
      "source": [
        "#Logit y Probit"
      ],
      "metadata": {
        "id": "uCN5nghUJLf2"
      }
    },
    {
      "cell_type": "code",
      "source": [
        "df = restaurant_inspections.load_pandas (). data"
      ],
      "metadata": {
        "id": "_YzQUR66JQQu"
      },
      "execution_count": 40,
      "outputs": []
    },
    {
      "cell_type": "code",
      "source": [
        "df"
      ],
      "metadata": {
        "colab": {
          "base_uri": "https://localhost:8080/",
          "height": 424
        },
        "id": "wBSM9E1xJs1B",
        "outputId": "7c436623-fa26-4620-9c11-d4c9d9c50455"
      },
      "execution_count": 41,
      "outputs": [
        {
          "output_type": "execute_result",
          "data": {
            "text/plain": [
              "                  business_name  inspection_score  Year  NumberofLocations  \\\n",
              "0                 MCGINLEYS PUB                94  2017                  9   \n",
              "1                VILLAGE INN #1                86  2015                 66   \n",
              "2                RONNIE SUSHI 2                80  2016                 79   \n",
              "3      FRED MEYER - RETAIL FISH                96  2003                 86   \n",
              "4                     PHO GRILL                83  2017                 53   \n",
              "...                         ...               ...   ...                ...   \n",
              "27173               TWIN DRAGON                90  2018                127   \n",
              "27174               TWIN DRAGON                90  2018                127   \n",
              "27175               TWIN DRAGON                90  2018                127   \n",
              "27176               TWIN DRAGON                90  2018                127   \n",
              "27177               TWIN DRAGON                90  2018                127   \n",
              "\n",
              "       Weekend  \n",
              "0        False  \n",
              "1        False  \n",
              "2        False  \n",
              "3        False  \n",
              "4        False  \n",
              "...        ...  \n",
              "27173    False  \n",
              "27174    False  \n",
              "27175    False  \n",
              "27176    False  \n",
              "27177    False  \n",
              "\n",
              "[27178 rows x 5 columns]"
            ],
            "text/html": [
              "\n",
              "  <div id=\"df-74a2748b-4500-4b0b-b90b-a088ed68f428\">\n",
              "    <div class=\"colab-df-container\">\n",
              "      <div>\n",
              "<style scoped>\n",
              "    .dataframe tbody tr th:only-of-type {\n",
              "        vertical-align: middle;\n",
              "    }\n",
              "\n",
              "    .dataframe tbody tr th {\n",
              "        vertical-align: top;\n",
              "    }\n",
              "\n",
              "    .dataframe thead th {\n",
              "        text-align: right;\n",
              "    }\n",
              "</style>\n",
              "<table border=\"1\" class=\"dataframe\">\n",
              "  <thead>\n",
              "    <tr style=\"text-align: right;\">\n",
              "      <th></th>\n",
              "      <th>business_name</th>\n",
              "      <th>inspection_score</th>\n",
              "      <th>Year</th>\n",
              "      <th>NumberofLocations</th>\n",
              "      <th>Weekend</th>\n",
              "    </tr>\n",
              "  </thead>\n",
              "  <tbody>\n",
              "    <tr>\n",
              "      <th>0</th>\n",
              "      <td>MCGINLEYS PUB</td>\n",
              "      <td>94</td>\n",
              "      <td>2017</td>\n",
              "      <td>9</td>\n",
              "      <td>False</td>\n",
              "    </tr>\n",
              "    <tr>\n",
              "      <th>1</th>\n",
              "      <td>VILLAGE INN #1</td>\n",
              "      <td>86</td>\n",
              "      <td>2015</td>\n",
              "      <td>66</td>\n",
              "      <td>False</td>\n",
              "    </tr>\n",
              "    <tr>\n",
              "      <th>2</th>\n",
              "      <td>RONNIE SUSHI 2</td>\n",
              "      <td>80</td>\n",
              "      <td>2016</td>\n",
              "      <td>79</td>\n",
              "      <td>False</td>\n",
              "    </tr>\n",
              "    <tr>\n",
              "      <th>3</th>\n",
              "      <td>FRED MEYER - RETAIL FISH</td>\n",
              "      <td>96</td>\n",
              "      <td>2003</td>\n",
              "      <td>86</td>\n",
              "      <td>False</td>\n",
              "    </tr>\n",
              "    <tr>\n",
              "      <th>4</th>\n",
              "      <td>PHO GRILL</td>\n",
              "      <td>83</td>\n",
              "      <td>2017</td>\n",
              "      <td>53</td>\n",
              "      <td>False</td>\n",
              "    </tr>\n",
              "    <tr>\n",
              "      <th>...</th>\n",
              "      <td>...</td>\n",
              "      <td>...</td>\n",
              "      <td>...</td>\n",
              "      <td>...</td>\n",
              "      <td>...</td>\n",
              "    </tr>\n",
              "    <tr>\n",
              "      <th>27173</th>\n",
              "      <td>TWIN DRAGON</td>\n",
              "      <td>90</td>\n",
              "      <td>2018</td>\n",
              "      <td>127</td>\n",
              "      <td>False</td>\n",
              "    </tr>\n",
              "    <tr>\n",
              "      <th>27174</th>\n",
              "      <td>TWIN DRAGON</td>\n",
              "      <td>90</td>\n",
              "      <td>2018</td>\n",
              "      <td>127</td>\n",
              "      <td>False</td>\n",
              "    </tr>\n",
              "    <tr>\n",
              "      <th>27175</th>\n",
              "      <td>TWIN DRAGON</td>\n",
              "      <td>90</td>\n",
              "      <td>2018</td>\n",
              "      <td>127</td>\n",
              "      <td>False</td>\n",
              "    </tr>\n",
              "    <tr>\n",
              "      <th>27176</th>\n",
              "      <td>TWIN DRAGON</td>\n",
              "      <td>90</td>\n",
              "      <td>2018</td>\n",
              "      <td>127</td>\n",
              "      <td>False</td>\n",
              "    </tr>\n",
              "    <tr>\n",
              "      <th>27177</th>\n",
              "      <td>TWIN DRAGON</td>\n",
              "      <td>90</td>\n",
              "      <td>2018</td>\n",
              "      <td>127</td>\n",
              "      <td>False</td>\n",
              "    </tr>\n",
              "  </tbody>\n",
              "</table>\n",
              "<p>27178 rows × 5 columns</p>\n",
              "</div>\n",
              "      <button class=\"colab-df-convert\" onclick=\"convertToInteractive('df-74a2748b-4500-4b0b-b90b-a088ed68f428')\"\n",
              "              title=\"Convert this dataframe to an interactive table.\"\n",
              "              style=\"display:none;\">\n",
              "        \n",
              "  <svg xmlns=\"http://www.w3.org/2000/svg\" height=\"24px\"viewBox=\"0 0 24 24\"\n",
              "       width=\"24px\">\n",
              "    <path d=\"M0 0h24v24H0V0z\" fill=\"none\"/>\n",
              "    <path d=\"M18.56 5.44l.94 2.06.94-2.06 2.06-.94-2.06-.94-.94-2.06-.94 2.06-2.06.94zm-11 1L8.5 8.5l.94-2.06 2.06-.94-2.06-.94L8.5 2.5l-.94 2.06-2.06.94zm10 10l.94 2.06.94-2.06 2.06-.94-2.06-.94-.94-2.06-.94 2.06-2.06.94z\"/><path d=\"M17.41 7.96l-1.37-1.37c-.4-.4-.92-.59-1.43-.59-.52 0-1.04.2-1.43.59L10.3 9.45l-7.72 7.72c-.78.78-.78 2.05 0 2.83L4 21.41c.39.39.9.59 1.41.59.51 0 1.02-.2 1.41-.59l7.78-7.78 2.81-2.81c.8-.78.8-2.07 0-2.86zM5.41 20L4 18.59l7.72-7.72 1.47 1.35L5.41 20z\"/>\n",
              "  </svg>\n",
              "      </button>\n",
              "      \n",
              "  <style>\n",
              "    .colab-df-container {\n",
              "      display:flex;\n",
              "      flex-wrap:wrap;\n",
              "      gap: 12px;\n",
              "    }\n",
              "\n",
              "    .colab-df-convert {\n",
              "      background-color: #E8F0FE;\n",
              "      border: none;\n",
              "      border-radius: 50%;\n",
              "      cursor: pointer;\n",
              "      display: none;\n",
              "      fill: #1967D2;\n",
              "      height: 32px;\n",
              "      padding: 0 0 0 0;\n",
              "      width: 32px;\n",
              "    }\n",
              "\n",
              "    .colab-df-convert:hover {\n",
              "      background-color: #E2EBFA;\n",
              "      box-shadow: 0px 1px 2px rgba(60, 64, 67, 0.3), 0px 1px 3px 1px rgba(60, 64, 67, 0.15);\n",
              "      fill: #174EA6;\n",
              "    }\n",
              "\n",
              "    [theme=dark] .colab-df-convert {\n",
              "      background-color: #3B4455;\n",
              "      fill: #D2E3FC;\n",
              "    }\n",
              "\n",
              "    [theme=dark] .colab-df-convert:hover {\n",
              "      background-color: #434B5C;\n",
              "      box-shadow: 0px 1px 3px 1px rgba(0, 0, 0, 0.15);\n",
              "      filter: drop-shadow(0px 1px 2px rgba(0, 0, 0, 0.3));\n",
              "      fill: #FFFFFF;\n",
              "    }\n",
              "  </style>\n",
              "\n",
              "      <script>\n",
              "        const buttonEl =\n",
              "          document.querySelector('#df-74a2748b-4500-4b0b-b90b-a088ed68f428 button.colab-df-convert');\n",
              "        buttonEl.style.display =\n",
              "          google.colab.kernel.accessAllowed ? 'block' : 'none';\n",
              "\n",
              "        async function convertToInteractive(key) {\n",
              "          const element = document.querySelector('#df-74a2748b-4500-4b0b-b90b-a088ed68f428');\n",
              "          const dataTable =\n",
              "            await google.colab.kernel.invokeFunction('convertToInteractive',\n",
              "                                                     [key], {});\n",
              "          if (!dataTable) return;\n",
              "\n",
              "          const docLinkHtml = 'Like what you see? Visit the ' +\n",
              "            '<a target=\"_blank\" href=https://colab.research.google.com/notebooks/data_table.ipynb>data table notebook</a>'\n",
              "            + ' to learn more about interactive tables.';\n",
              "          element.innerHTML = '';\n",
              "          dataTable['output_type'] = 'display_data';\n",
              "          await google.colab.output.renderOutput(dataTable, element);\n",
              "          const docLink = document.createElement('div');\n",
              "          docLink.innerHTML = docLinkHtml;\n",
              "          element.appendChild(docLink);\n",
              "        }\n",
              "      </script>\n",
              "    </div>\n",
              "  </div>\n",
              "  "
            ]
          },
          "metadata": {},
          "execution_count": 41
        }
      ]
    },
    {
      "cell_type": "code",
      "source": [
        "# sm.logit wants the dependent variable to be numeric\n",
        "df['Weekend'] = 1*df['Weekend']"
      ],
      "metadata": {
        "id": "YnRMoit42Qv7"
      },
      "execution_count": 42,
      "outputs": []
    },
    {
      "cell_type": "code",
      "source": [
        "df"
      ],
      "metadata": {
        "colab": {
          "base_uri": "https://localhost:8080/",
          "height": 424
        },
        "id": "f5lP926PJcYO",
        "outputId": "52fb8740-8b74-4d5f-94b3-5a329b4088e7"
      },
      "execution_count": 43,
      "outputs": [
        {
          "output_type": "execute_result",
          "data": {
            "text/plain": [
              "                  business_name  inspection_score  Year  NumberofLocations  \\\n",
              "0                 MCGINLEYS PUB                94  2017                  9   \n",
              "1                VILLAGE INN #1                86  2015                 66   \n",
              "2                RONNIE SUSHI 2                80  2016                 79   \n",
              "3      FRED MEYER - RETAIL FISH                96  2003                 86   \n",
              "4                     PHO GRILL                83  2017                 53   \n",
              "...                         ...               ...   ...                ...   \n",
              "27173               TWIN DRAGON                90  2018                127   \n",
              "27174               TWIN DRAGON                90  2018                127   \n",
              "27175               TWIN DRAGON                90  2018                127   \n",
              "27176               TWIN DRAGON                90  2018                127   \n",
              "27177               TWIN DRAGON                90  2018                127   \n",
              "\n",
              "       Weekend  \n",
              "0            0  \n",
              "1            0  \n",
              "2            0  \n",
              "3            0  \n",
              "4            0  \n",
              "...        ...  \n",
              "27173        0  \n",
              "27174        0  \n",
              "27175        0  \n",
              "27176        0  \n",
              "27177        0  \n",
              "\n",
              "[27178 rows x 5 columns]"
            ],
            "text/html": [
              "\n",
              "  <div id=\"df-8840ba48-0193-49ca-90b3-5fa1c097d827\">\n",
              "    <div class=\"colab-df-container\">\n",
              "      <div>\n",
              "<style scoped>\n",
              "    .dataframe tbody tr th:only-of-type {\n",
              "        vertical-align: middle;\n",
              "    }\n",
              "\n",
              "    .dataframe tbody tr th {\n",
              "        vertical-align: top;\n",
              "    }\n",
              "\n",
              "    .dataframe thead th {\n",
              "        text-align: right;\n",
              "    }\n",
              "</style>\n",
              "<table border=\"1\" class=\"dataframe\">\n",
              "  <thead>\n",
              "    <tr style=\"text-align: right;\">\n",
              "      <th></th>\n",
              "      <th>business_name</th>\n",
              "      <th>inspection_score</th>\n",
              "      <th>Year</th>\n",
              "      <th>NumberofLocations</th>\n",
              "      <th>Weekend</th>\n",
              "    </tr>\n",
              "  </thead>\n",
              "  <tbody>\n",
              "    <tr>\n",
              "      <th>0</th>\n",
              "      <td>MCGINLEYS PUB</td>\n",
              "      <td>94</td>\n",
              "      <td>2017</td>\n",
              "      <td>9</td>\n",
              "      <td>0</td>\n",
              "    </tr>\n",
              "    <tr>\n",
              "      <th>1</th>\n",
              "      <td>VILLAGE INN #1</td>\n",
              "      <td>86</td>\n",
              "      <td>2015</td>\n",
              "      <td>66</td>\n",
              "      <td>0</td>\n",
              "    </tr>\n",
              "    <tr>\n",
              "      <th>2</th>\n",
              "      <td>RONNIE SUSHI 2</td>\n",
              "      <td>80</td>\n",
              "      <td>2016</td>\n",
              "      <td>79</td>\n",
              "      <td>0</td>\n",
              "    </tr>\n",
              "    <tr>\n",
              "      <th>3</th>\n",
              "      <td>FRED MEYER - RETAIL FISH</td>\n",
              "      <td>96</td>\n",
              "      <td>2003</td>\n",
              "      <td>86</td>\n",
              "      <td>0</td>\n",
              "    </tr>\n",
              "    <tr>\n",
              "      <th>4</th>\n",
              "      <td>PHO GRILL</td>\n",
              "      <td>83</td>\n",
              "      <td>2017</td>\n",
              "      <td>53</td>\n",
              "      <td>0</td>\n",
              "    </tr>\n",
              "    <tr>\n",
              "      <th>...</th>\n",
              "      <td>...</td>\n",
              "      <td>...</td>\n",
              "      <td>...</td>\n",
              "      <td>...</td>\n",
              "      <td>...</td>\n",
              "    </tr>\n",
              "    <tr>\n",
              "      <th>27173</th>\n",
              "      <td>TWIN DRAGON</td>\n",
              "      <td>90</td>\n",
              "      <td>2018</td>\n",
              "      <td>127</td>\n",
              "      <td>0</td>\n",
              "    </tr>\n",
              "    <tr>\n",
              "      <th>27174</th>\n",
              "      <td>TWIN DRAGON</td>\n",
              "      <td>90</td>\n",
              "      <td>2018</td>\n",
              "      <td>127</td>\n",
              "      <td>0</td>\n",
              "    </tr>\n",
              "    <tr>\n",
              "      <th>27175</th>\n",
              "      <td>TWIN DRAGON</td>\n",
              "      <td>90</td>\n",
              "      <td>2018</td>\n",
              "      <td>127</td>\n",
              "      <td>0</td>\n",
              "    </tr>\n",
              "    <tr>\n",
              "      <th>27176</th>\n",
              "      <td>TWIN DRAGON</td>\n",
              "      <td>90</td>\n",
              "      <td>2018</td>\n",
              "      <td>127</td>\n",
              "      <td>0</td>\n",
              "    </tr>\n",
              "    <tr>\n",
              "      <th>27177</th>\n",
              "      <td>TWIN DRAGON</td>\n",
              "      <td>90</td>\n",
              "      <td>2018</td>\n",
              "      <td>127</td>\n",
              "      <td>0</td>\n",
              "    </tr>\n",
              "  </tbody>\n",
              "</table>\n",
              "<p>27178 rows × 5 columns</p>\n",
              "</div>\n",
              "      <button class=\"colab-df-convert\" onclick=\"convertToInteractive('df-8840ba48-0193-49ca-90b3-5fa1c097d827')\"\n",
              "              title=\"Convert this dataframe to an interactive table.\"\n",
              "              style=\"display:none;\">\n",
              "        \n",
              "  <svg xmlns=\"http://www.w3.org/2000/svg\" height=\"24px\"viewBox=\"0 0 24 24\"\n",
              "       width=\"24px\">\n",
              "    <path d=\"M0 0h24v24H0V0z\" fill=\"none\"/>\n",
              "    <path d=\"M18.56 5.44l.94 2.06.94-2.06 2.06-.94-2.06-.94-.94-2.06-.94 2.06-2.06.94zm-11 1L8.5 8.5l.94-2.06 2.06-.94-2.06-.94L8.5 2.5l-.94 2.06-2.06.94zm10 10l.94 2.06.94-2.06 2.06-.94-2.06-.94-.94-2.06-.94 2.06-2.06.94z\"/><path d=\"M17.41 7.96l-1.37-1.37c-.4-.4-.92-.59-1.43-.59-.52 0-1.04.2-1.43.59L10.3 9.45l-7.72 7.72c-.78.78-.78 2.05 0 2.83L4 21.41c.39.39.9.59 1.41.59.51 0 1.02-.2 1.41-.59l7.78-7.78 2.81-2.81c.8-.78.8-2.07 0-2.86zM5.41 20L4 18.59l7.72-7.72 1.47 1.35L5.41 20z\"/>\n",
              "  </svg>\n",
              "      </button>\n",
              "      \n",
              "  <style>\n",
              "    .colab-df-container {\n",
              "      display:flex;\n",
              "      flex-wrap:wrap;\n",
              "      gap: 12px;\n",
              "    }\n",
              "\n",
              "    .colab-df-convert {\n",
              "      background-color: #E8F0FE;\n",
              "      border: none;\n",
              "      border-radius: 50%;\n",
              "      cursor: pointer;\n",
              "      display: none;\n",
              "      fill: #1967D2;\n",
              "      height: 32px;\n",
              "      padding: 0 0 0 0;\n",
              "      width: 32px;\n",
              "    }\n",
              "\n",
              "    .colab-df-convert:hover {\n",
              "      background-color: #E2EBFA;\n",
              "      box-shadow: 0px 1px 2px rgba(60, 64, 67, 0.3), 0px 1px 3px 1px rgba(60, 64, 67, 0.15);\n",
              "      fill: #174EA6;\n",
              "    }\n",
              "\n",
              "    [theme=dark] .colab-df-convert {\n",
              "      background-color: #3B4455;\n",
              "      fill: #D2E3FC;\n",
              "    }\n",
              "\n",
              "    [theme=dark] .colab-df-convert:hover {\n",
              "      background-color: #434B5C;\n",
              "      box-shadow: 0px 1px 3px 1px rgba(0, 0, 0, 0.15);\n",
              "      filter: drop-shadow(0px 1px 2px rgba(0, 0, 0, 0.3));\n",
              "      fill: #FFFFFF;\n",
              "    }\n",
              "  </style>\n",
              "\n",
              "      <script>\n",
              "        const buttonEl =\n",
              "          document.querySelector('#df-8840ba48-0193-49ca-90b3-5fa1c097d827 button.colab-df-convert');\n",
              "        buttonEl.style.display =\n",
              "          google.colab.kernel.accessAllowed ? 'block' : 'none';\n",
              "\n",
              "        async function convertToInteractive(key) {\n",
              "          const element = document.querySelector('#df-8840ba48-0193-49ca-90b3-5fa1c097d827');\n",
              "          const dataTable =\n",
              "            await google.colab.kernel.invokeFunction('convertToInteractive',\n",
              "                                                     [key], {});\n",
              "          if (!dataTable) return;\n",
              "\n",
              "          const docLinkHtml = 'Like what you see? Visit the ' +\n",
              "            '<a target=\"_blank\" href=https://colab.research.google.com/notebooks/data_table.ipynb>data table notebook</a>'\n",
              "            + ' to learn more about interactive tables.';\n",
              "          element.innerHTML = '';\n",
              "          dataTable['output_type'] = 'display_data';\n",
              "          await google.colab.output.renderOutput(dataTable, element);\n",
              "          const docLink = document.createElement('div');\n",
              "          docLink.innerHTML = docLinkHtml;\n",
              "          element.appendChild(docLink);\n",
              "        }\n",
              "      </script>\n",
              "    </div>\n",
              "  </div>\n",
              "  "
            ]
          },
          "metadata": {},
          "execution_count": 43
        }
      ]
    },
    {
      "cell_type": "code",
      "source": [
        "# Use sm.logit to run logit, si se quiere aplicar probit solo cambiamos la palabra logit por probit en el codigo\n",
        "m1 = sm.logit(formula = \"Weekend ~ Year\", data = df).fit()"
      ],
      "metadata": {
        "colab": {
          "base_uri": "https://localhost:8080/"
        },
        "id": "jHj-kdj_JQ4g",
        "outputId": "531feed0-8095-4f53-fc1d-6dea82e8c1c9"
      },
      "execution_count": 44,
      "outputs": [
        {
          "output_type": "stream",
          "name": "stdout",
          "text": [
            "Optimization terminated successfully.\n",
            "         Current function value: 0.045192\n",
            "         Iterations 10\n"
          ]
        }
      ]
    },
    {
      "cell_type": "code",
      "source": [
        "# See the result\n",
        "# m1.summary() would also work\n",
        "Stargazer ([m1])"
      ],
      "metadata": {
        "colab": {
          "base_uri": "https://localhost:8080/",
          "height": 321
        },
        "id": "RfU_T39AJZ4O",
        "outputId": "f8691a9d-8af5-46a1-995e-2b22735ae63b"
      },
      "execution_count": 45,
      "outputs": [
        {
          "output_type": "execute_result",
          "data": {
            "text/plain": [
              "<stargazer.stargazer.Stargazer at 0x7fb0d05872e0>"
            ],
            "text/html": [
              "<table style=\"text-align:center\"><tr><td colspan=\"2\" style=\"border-bottom: 1px solid black\"></td></tr><tr><td style=\"text-align:left\"></td><td colspan=\"1\"><em>Dependent variable:Weekend</em></td></tr><tr><td style=\"text-align:left\"></td><tr><td style=\"text-align:left\"></td><td>(1)</td></tr><tr><td colspan=\"2\" style=\"border-bottom: 1px solid black\"></td></tr><tr><td style=\"text-align:left\">Intercept</td><td>44.236<sup>*</sup></td></tr><tr><td style=\"text-align:left\"></td><td>(23.502)</td></tr><tr><td style=\"text-align:left\">Year</td><td>-0.024<sup>**</sup></td></tr><tr><td style=\"text-align:left\"></td><td>(0.012)</td></tr><td colspan=\"2\" style=\"border-bottom: 1px solid black\"></td></tr><tr><td style=\"text-align: left\">Observations</td><td>27,178</td></tr><tr><td style=\"text-align: left\">R<sup>2</sup></td><td></td></tr><tr><td style=\"text-align: left\">Adjusted R<sup>2</sup></td><td></td></tr><tr><td style=\"text-align: left\">Residual Std. Error</td><td>1.000 (df=27176)</td></tr><tr><td style=\"text-align: left\">F Statistic</td><td><sup></sup> (df=1; 27176)</td></tr><tr><td colspan=\"2\" style=\"border-bottom: 1px solid black\"></td></tr><tr><td style=\"text-align: left\">Note:</td>\n",
              " <td colspan=\"1\" style=\"text-align: right\">\n",
              "  <sup>*</sup>p&lt;0.1;\n",
              "  <sup>**</sup>p&lt;0.05;\n",
              "  <sup>***</sup>p&lt;0.01\n",
              " </td></tr></table>"
            ]
          },
          "metadata": {},
          "execution_count": 45
        }
      ]
    },
    {
      "cell_type": "code",
      "source": [
        "# And get marginal effects\n",
        "m1.get_margeff (). summary ()"
      ],
      "metadata": {
        "colab": {
          "base_uri": "https://localhost:8080/",
          "height": 145
        },
        "id": "XB46cRMSKBoy",
        "outputId": "35f22151-3a97-44f4-84f0-40e6b4901af0"
      },
      "execution_count": 46,
      "outputs": [
        {
          "output_type": "execute_result",
          "data": {
            "text/plain": [
              "<class 'statsmodels.iolib.summary.Summary'>\n",
              "\"\"\"\n",
              "        Logit Marginal Effects       \n",
              "=====================================\n",
              "Dep. Variable:                Weekend\n",
              "Method:                          dydx\n",
              "At:                           overall\n",
              "==============================================================================\n",
              "                dy/dx    std err          z      P>|z|      [0.025      0.975]\n",
              "------------------------------------------------------------------------------\n",
              "Year          -0.0002   9.05e-05     -2.068      0.039      -0.000   -9.79e-06\n",
              "==============================================================================\n",
              "\"\"\""
            ],
            "text/html": [
              "<table class=\"simpletable\">\n",
              "<caption>Logit Marginal Effects</caption>\n",
              "<tr>\n",
              "  <th>Dep. Variable:</th> <td>Weekend</td>\n",
              "</tr>\n",
              "<tr>\n",
              "  <th>Method:</th>         <td>dydx</td>  \n",
              "</tr>\n",
              "<tr>\n",
              "  <th>At:</th>            <td>overall</td>\n",
              "</tr>\n",
              "</table>\n",
              "<table class=\"simpletable\">\n",
              "<tr>\n",
              "    <th></th>      <th>dy/dx</th>    <th>std err</th>      <th>z</th>      <th>P>|z|</th>  <th>[0.025</th>    <th>0.975]</th>  \n",
              "</tr>\n",
              "<tr>\n",
              "  <th>Year</th> <td>   -0.0002</td> <td> 9.05e-05</td> <td>   -2.068</td> <td> 0.039</td> <td>   -0.000</td> <td>-9.79e-06</td>\n",
              "</tr>\n",
              "</table>"
            ]
          },
          "metadata": {},
          "execution_count": 46
        }
      ]
    },
    {
      "cell_type": "markdown",
      "source": [
        "#Ajuste de error estandar"
      ],
      "metadata": {
        "id": "R0xJ_DWeRFJG"
      }
    },
    {
      "cell_type": "code",
      "source": [
        "#Estimamos robust standar errors, usado cuando hay heterocedasticidad\n",
        "df = restaurant_inspections.load_pandas (). data\n",
        "# We can simply add cov_type = 'HC3'\n",
        "# to our fit!\n",
        "m1 = sm.ols(formula = 'inspection_score ~ Year + Weekend', data = df).fit(cov_type = 'HC3')\n",
        "\n",
        "m1.summary ()"
      ],
      "metadata": {
        "colab": {
          "base_uri": "https://localhost:8080/",
          "height": 508
        },
        "id": "5eXdOHXOKFQa",
        "outputId": "99246f46-ce21-4674-cd10-131971cea085"
      },
      "execution_count": 49,
      "outputs": [
        {
          "output_type": "execute_result",
          "data": {
            "text/plain": [
              "<class 'statsmodels.iolib.summary.Summary'>\n",
              "\"\"\"\n",
              "                            OLS Regression Results                            \n",
              "==============================================================================\n",
              "Dep. Variable:       inspection_score   R-squared:                       0.003\n",
              "Model:                            OLS   Adj. R-squared:                  0.003\n",
              "Method:                 Least Squares   F-statistic:                     46.72\n",
              "Date:                Tue, 06 Jun 2023   Prob (F-statistic):           5.54e-21\n",
              "Time:                        01:19:13   Log-Likelihood:                -88362.\n",
              "No. Observations:               27178   AIC:                         1.767e+05\n",
              "Df Residuals:                   27175   BIC:                         1.768e+05\n",
              "Df Model:                           2                                         \n",
              "Covariance Type:                  HC3                                         \n",
              "===================================================================================\n",
              "                      coef    std err          z      P>|z|      [0.025      0.975]\n",
              "-----------------------------------------------------------------------------------\n",
              "Intercept         185.3800     12.150     15.258      0.000     161.567     209.193\n",
              "Weekend[T.True]     2.0572      0.353      5.829      0.000       1.365       2.749\n",
              "Year               -0.0456      0.006     -7.552      0.000      -0.057      -0.034\n",
              "==============================================================================\n",
              "Omnibus:                     3522.402   Durbin-Watson:                   1.921\n",
              "Prob(Omnibus):                  0.000   Jarque-Bera (JB):             5062.647\n",
              "Skew:                          -1.002   Prob(JB):                         0.00\n",
              "Kurtosis:                       3.673   Cond. No.                     6.79e+05\n",
              "==============================================================================\n",
              "\n",
              "Notes:\n",
              "[1] Standard Errors are heteroscedasticity robust (HC3)\n",
              "[2] The condition number is large, 6.79e+05. This might indicate that there are\n",
              "strong multicollinearity or other numerical problems.\n",
              "\"\"\""
            ],
            "text/html": [
              "<table class=\"simpletable\">\n",
              "<caption>OLS Regression Results</caption>\n",
              "<tr>\n",
              "  <th>Dep. Variable:</th>    <td>inspection_score</td> <th>  R-squared:         </th> <td>   0.003</td> \n",
              "</tr>\n",
              "<tr>\n",
              "  <th>Model:</th>                   <td>OLS</td>       <th>  Adj. R-squared:    </th> <td>   0.003</td> \n",
              "</tr>\n",
              "<tr>\n",
              "  <th>Method:</th>             <td>Least Squares</td>  <th>  F-statistic:       </th> <td>   46.72</td> \n",
              "</tr>\n",
              "<tr>\n",
              "  <th>Date:</th>             <td>Tue, 06 Jun 2023</td> <th>  Prob (F-statistic):</th> <td>5.54e-21</td> \n",
              "</tr>\n",
              "<tr>\n",
              "  <th>Time:</th>                 <td>01:19:13</td>     <th>  Log-Likelihood:    </th> <td> -88362.</td> \n",
              "</tr>\n",
              "<tr>\n",
              "  <th>No. Observations:</th>      <td> 27178</td>      <th>  AIC:               </th> <td>1.767e+05</td>\n",
              "</tr>\n",
              "<tr>\n",
              "  <th>Df Residuals:</th>          <td> 27175</td>      <th>  BIC:               </th> <td>1.768e+05</td>\n",
              "</tr>\n",
              "<tr>\n",
              "  <th>Df Model:</th>              <td>     2</td>      <th>                     </th>     <td> </td>    \n",
              "</tr>\n",
              "<tr>\n",
              "  <th>Covariance Type:</th>         <td>HC3</td>       <th>                     </th>     <td> </td>    \n",
              "</tr>\n",
              "</table>\n",
              "<table class=\"simpletable\">\n",
              "<tr>\n",
              "         <td></td>            <th>coef</th>     <th>std err</th>      <th>z</th>      <th>P>|z|</th>  <th>[0.025</th>    <th>0.975]</th>  \n",
              "</tr>\n",
              "<tr>\n",
              "  <th>Intercept</th>       <td>  185.3800</td> <td>   12.150</td> <td>   15.258</td> <td> 0.000</td> <td>  161.567</td> <td>  209.193</td>\n",
              "</tr>\n",
              "<tr>\n",
              "  <th>Weekend[T.True]</th> <td>    2.0572</td> <td>    0.353</td> <td>    5.829</td> <td> 0.000</td> <td>    1.365</td> <td>    2.749</td>\n",
              "</tr>\n",
              "<tr>\n",
              "  <th>Year</th>            <td>   -0.0456</td> <td>    0.006</td> <td>   -7.552</td> <td> 0.000</td> <td>   -0.057</td> <td>   -0.034</td>\n",
              "</tr>\n",
              "</table>\n",
              "<table class=\"simpletable\">\n",
              "<tr>\n",
              "  <th>Omnibus:</th>       <td>3522.402</td> <th>  Durbin-Watson:     </th> <td>   1.921</td>\n",
              "</tr>\n",
              "<tr>\n",
              "  <th>Prob(Omnibus):</th>  <td> 0.000</td>  <th>  Jarque-Bera (JB):  </th> <td>5062.647</td>\n",
              "</tr>\n",
              "<tr>\n",
              "  <th>Skew:</th>           <td>-1.002</td>  <th>  Prob(JB):          </th> <td>    0.00</td>\n",
              "</tr>\n",
              "<tr>\n",
              "  <th>Kurtosis:</th>       <td> 3.673</td>  <th>  Cond. No.          </th> <td>6.79e+05</td>\n",
              "</tr>\n",
              "</table><br/><br/>Notes:<br/>[1] Standard Errors are heteroscedasticity robust (HC3)<br/>[2] The condition number is large, 6.79e+05. This might indicate that there are<br/>strong multicollinearity or other numerical problems."
            ]
          },
          "metadata": {},
          "execution_count": 49
        }
      ]
    },
    {
      "cell_type": "code",
      "source": [
        "#Estimamos Newey-West, en existencia de autocorrelacion de los errores. Por ello estimamos el año que es una serie de tiempo\n",
        "df = restaurant_inspections.load_pandas (). data"
      ],
      "metadata": {
        "id": "bso0mpDLRhXm"
      },
      "execution_count": 54,
      "outputs": []
    },
    {
      "cell_type": "code",
      "source": [
        "df = restaurant_inspections.load_pandas (). data\n",
        "\n",
        "# Get our data into a single time series!\n",
        "df = df.groupby('Year').agg([('mean')])\n",
        "# Only use the years without a gap\n",
        "df = df.query('Year <= 2009')\n",
        "\n",
        "# We can simply add cov_type = 'HAC' to our fit, with maxlags specified\n",
        "m1 = sm.ols(formula = 'inspection_score ~ Weekend',data = df).fit(cov_type = 'HAC',cov_kwds ={'maxlags':1})\n",
        "\n",
        "m1.summary ()\n",
        "# Note that Python uses a \"classic\" form of HAC that does not apply\n",
        "# \"pre-whiting\", so results are often different from other languages"
      ],
      "metadata": {
        "colab": {
          "base_uri": "https://localhost:8080/",
          "height": 541
        },
        "id": "hydDM5xGVqNP",
        "outputId": "c76e3d5d-0e38-4fc6-8d84-3dd02ef7f9fc"
      },
      "execution_count": 62,
      "outputs": [
        {
          "output_type": "stream",
          "name": "stderr",
          "text": [
            "<ipython-input-62-ba9e1b7eb291>:4: FutureWarning: ['business_name'] did not aggregate successfully. If any error is raised this will raise in a future version of pandas. Drop these columns/ops to avoid this warning.\n",
            "  df = df.groupby('Year').agg([('mean')])\n",
            "/usr/local/lib/python3.10/dist-packages/scipy/stats/_stats_py.py:1736: UserWarning: kurtosistest only valid for n>=20 ... continuing anyway, n=10\n",
            "  warnings.warn(\"kurtosistest only valid for n>=20 ... continuing \"\n"
          ]
        },
        {
          "output_type": "execute_result",
          "data": {
            "text/plain": [
              "<class 'statsmodels.iolib.summary.Summary'>\n",
              "\"\"\"\n",
              "                            OLS Regression Results                            \n",
              "==============================================================================\n",
              "Dep. Variable:       inspection_score   R-squared:                       0.066\n",
              "Model:                            OLS   Adj. R-squared:                 -0.051\n",
              "Method:                 Least Squares   F-statistic:                     3.081\n",
              "Date:                Tue, 06 Jun 2023   Prob (F-statistic):              0.117\n",
              "Time:                        01:34:37   Log-Likelihood:                -20.065\n",
              "No. Observations:                  10   AIC:                             44.13\n",
              "Df Residuals:                       8   BIC:                             44.74\n",
              "Df Model:                           1                                         \n",
              "Covariance Type:                  HAC                                         \n",
              "==============================================================================\n",
              "                 coef    std err          z      P>|z|      [0.025      0.975]\n",
              "------------------------------------------------------------------------------\n",
              "Intercept     93.7736      0.953     98.416      0.000      91.906      95.641\n",
              "Weekend       42.7314     24.346      1.755      0.079      -4.985      90.448\n",
              "==============================================================================\n",
              "Omnibus:                        2.274   Durbin-Watson:                   0.500\n",
              "Prob(Omnibus):                  0.321   Jarque-Bera (JB):                1.042\n",
              "Skew:                           0.392   Prob(JB):                        0.594\n",
              "Kurtosis:                       1.626   Cond. No.                         89.4\n",
              "==============================================================================\n",
              "\n",
              "Notes:\n",
              "[1] Standard Errors are heteroscedasticity and autocorrelation robust (HAC) using 1 lags and without small sample correction\n",
              "\"\"\""
            ],
            "text/html": [
              "<table class=\"simpletable\">\n",
              "<caption>OLS Regression Results</caption>\n",
              "<tr>\n",
              "  <th>Dep. Variable:</th>    <td>inspection_score</td> <th>  R-squared:         </th> <td>   0.066</td>\n",
              "</tr>\n",
              "<tr>\n",
              "  <th>Model:</th>                   <td>OLS</td>       <th>  Adj. R-squared:    </th> <td>  -0.051</td>\n",
              "</tr>\n",
              "<tr>\n",
              "  <th>Method:</th>             <td>Least Squares</td>  <th>  F-statistic:       </th> <td>   3.081</td>\n",
              "</tr>\n",
              "<tr>\n",
              "  <th>Date:</th>             <td>Tue, 06 Jun 2023</td> <th>  Prob (F-statistic):</th>  <td> 0.117</td> \n",
              "</tr>\n",
              "<tr>\n",
              "  <th>Time:</th>                 <td>01:34:37</td>     <th>  Log-Likelihood:    </th> <td> -20.065</td>\n",
              "</tr>\n",
              "<tr>\n",
              "  <th>No. Observations:</th>      <td>    10</td>      <th>  AIC:               </th> <td>   44.13</td>\n",
              "</tr>\n",
              "<tr>\n",
              "  <th>Df Residuals:</th>          <td>     8</td>      <th>  BIC:               </th> <td>   44.74</td>\n",
              "</tr>\n",
              "<tr>\n",
              "  <th>Df Model:</th>              <td>     1</td>      <th>                     </th>     <td> </td>   \n",
              "</tr>\n",
              "<tr>\n",
              "  <th>Covariance Type:</th>         <td>HAC</td>       <th>                     </th>     <td> </td>   \n",
              "</tr>\n",
              "</table>\n",
              "<table class=\"simpletable\">\n",
              "<tr>\n",
              "      <td></td>         <th>coef</th>     <th>std err</th>      <th>z</th>      <th>P>|z|</th>  <th>[0.025</th>    <th>0.975]</th>  \n",
              "</tr>\n",
              "<tr>\n",
              "  <th>Intercept</th> <td>   93.7736</td> <td>    0.953</td> <td>   98.416</td> <td> 0.000</td> <td>   91.906</td> <td>   95.641</td>\n",
              "</tr>\n",
              "<tr>\n",
              "  <th>Weekend</th>   <td>   42.7314</td> <td>   24.346</td> <td>    1.755</td> <td> 0.079</td> <td>   -4.985</td> <td>   90.448</td>\n",
              "</tr>\n",
              "</table>\n",
              "<table class=\"simpletable\">\n",
              "<tr>\n",
              "  <th>Omnibus:</th>       <td> 2.274</td> <th>  Durbin-Watson:     </th> <td>   0.500</td>\n",
              "</tr>\n",
              "<tr>\n",
              "  <th>Prob(Omnibus):</th> <td> 0.321</td> <th>  Jarque-Bera (JB):  </th> <td>   1.042</td>\n",
              "</tr>\n",
              "<tr>\n",
              "  <th>Skew:</th>          <td> 0.392</td> <th>  Prob(JB):          </th> <td>   0.594</td>\n",
              "</tr>\n",
              "<tr>\n",
              "  <th>Kurtosis:</th>      <td> 1.626</td> <th>  Cond. No.          </th> <td>    89.4</td>\n",
              "</tr>\n",
              "</table><br/><br/>Notes:<br/>[1] Standard Errors are heteroscedasticity and autocorrelation robust (HAC) using 1 lags and without small sample correction"
            ]
          },
          "metadata": {},
          "execution_count": 62
        }
      ]
    },
    {
      "cell_type": "code",
      "source": [
        "#Estimamos clustered standard errors, usado cuando hay correlacion entre errores dentro de grupos\n",
        "df = restaurant_inspections.load_pandas (). data\n",
        "\n",
        "# We can simply add cov_type = 'cluster' to our fit, and specify the groups\n",
        "m1 = sm.ols(formula = 'inspection_score ~ Year', data = df).fit(cov_type = 'cluster', cov_kwds ={'groups': df['Weekend']})"
      ],
      "metadata": {
        "id": "4qd4ih89ThMJ"
      },
      "execution_count": 63,
      "outputs": []
    },
    {
      "cell_type": "code",
      "source": [
        "m1.summary ()"
      ],
      "metadata": {
        "colab": {
          "base_uri": "https://localhost:8080/",
          "height": 486
        },
        "id": "PkJoV6qtTqY4",
        "outputId": "864cf448-c7e9-4619-daa9-b98c314ca229"
      },
      "execution_count": 64,
      "outputs": [
        {
          "output_type": "execute_result",
          "data": {
            "text/plain": [
              "<class 'statsmodels.iolib.summary.Summary'>\n",
              "\"\"\"\n",
              "                            OLS Regression Results                            \n",
              "==============================================================================\n",
              "Dep. Variable:       inspection_score   R-squared:                       0.002\n",
              "Model:                            OLS   Adj. R-squared:                  0.002\n",
              "Method:                 Least Squares   F-statistic:                     2810.\n",
              "Date:                Tue, 06 Jun 2023   Prob (F-statistic):             0.0120\n",
              "Time:                        01:35:40   Log-Likelihood:                -88373.\n",
              "No. Observations:               27178   AIC:                         1.768e+05\n",
              "Df Residuals:                   27176   BIC:                         1.768e+05\n",
              "Df Model:                           1                                         \n",
              "Covariance Type:              cluster                                         \n",
              "==============================================================================\n",
              "                 coef    std err          z      P>|z|      [0.025      0.975]\n",
              "------------------------------------------------------------------------------\n",
              "Intercept    186.1690      1.714    108.619      0.000     182.810     189.528\n",
              "Year          -0.0460      0.001    -53.008      0.000      -0.048      -0.044\n",
              "==============================================================================\n",
              "Omnibus:                     3528.301   Durbin-Watson:                   1.921\n",
              "Prob(Omnibus):                  0.000   Jarque-Bera (JB):             5073.965\n",
              "Skew:                          -1.003   Prob(JB):                         0.00\n",
              "Kurtosis:                       3.674   Cond. No.                     6.79e+05\n",
              "==============================================================================\n",
              "\n",
              "Notes:\n",
              "[1] Standard Errors are robust to cluster correlation (cluster)\n",
              "[2] The condition number is large, 6.79e+05. This might indicate that there are\n",
              "strong multicollinearity or other numerical problems.\n",
              "\"\"\""
            ],
            "text/html": [
              "<table class=\"simpletable\">\n",
              "<caption>OLS Regression Results</caption>\n",
              "<tr>\n",
              "  <th>Dep. Variable:</th>    <td>inspection_score</td> <th>  R-squared:         </th> <td>   0.002</td> \n",
              "</tr>\n",
              "<tr>\n",
              "  <th>Model:</th>                   <td>OLS</td>       <th>  Adj. R-squared:    </th> <td>   0.002</td> \n",
              "</tr>\n",
              "<tr>\n",
              "  <th>Method:</th>             <td>Least Squares</td>  <th>  F-statistic:       </th> <td>   2810.</td> \n",
              "</tr>\n",
              "<tr>\n",
              "  <th>Date:</th>             <td>Tue, 06 Jun 2023</td> <th>  Prob (F-statistic):</th>  <td>0.0120</td>  \n",
              "</tr>\n",
              "<tr>\n",
              "  <th>Time:</th>                 <td>01:35:40</td>     <th>  Log-Likelihood:    </th> <td> -88373.</td> \n",
              "</tr>\n",
              "<tr>\n",
              "  <th>No. Observations:</th>      <td> 27178</td>      <th>  AIC:               </th> <td>1.768e+05</td>\n",
              "</tr>\n",
              "<tr>\n",
              "  <th>Df Residuals:</th>          <td> 27176</td>      <th>  BIC:               </th> <td>1.768e+05</td>\n",
              "</tr>\n",
              "<tr>\n",
              "  <th>Df Model:</th>              <td>     1</td>      <th>                     </th>     <td> </td>    \n",
              "</tr>\n",
              "<tr>\n",
              "  <th>Covariance Type:</th>       <td>cluster</td>     <th>                     </th>     <td> </td>    \n",
              "</tr>\n",
              "</table>\n",
              "<table class=\"simpletable\">\n",
              "<tr>\n",
              "      <td></td>         <th>coef</th>     <th>std err</th>      <th>z</th>      <th>P>|z|</th>  <th>[0.025</th>    <th>0.975]</th>  \n",
              "</tr>\n",
              "<tr>\n",
              "  <th>Intercept</th> <td>  186.1690</td> <td>    1.714</td> <td>  108.619</td> <td> 0.000</td> <td>  182.810</td> <td>  189.528</td>\n",
              "</tr>\n",
              "<tr>\n",
              "  <th>Year</th>      <td>   -0.0460</td> <td>    0.001</td> <td>  -53.008</td> <td> 0.000</td> <td>   -0.048</td> <td>   -0.044</td>\n",
              "</tr>\n",
              "</table>\n",
              "<table class=\"simpletable\">\n",
              "<tr>\n",
              "  <th>Omnibus:</th>       <td>3528.301</td> <th>  Durbin-Watson:     </th> <td>   1.921</td>\n",
              "</tr>\n",
              "<tr>\n",
              "  <th>Prob(Omnibus):</th>  <td> 0.000</td>  <th>  Jarque-Bera (JB):  </th> <td>5073.965</td>\n",
              "</tr>\n",
              "<tr>\n",
              "  <th>Skew:</th>           <td>-1.003</td>  <th>  Prob(JB):          </th> <td>    0.00</td>\n",
              "</tr>\n",
              "<tr>\n",
              "  <th>Kurtosis:</th>       <td> 3.674</td>  <th>  Cond. No.          </th> <td>6.79e+05</td>\n",
              "</tr>\n",
              "</table><br/><br/>Notes:<br/>[1] Standard Errors are robust to cluster correlation (cluster)<br/>[2] The condition number is large, 6.79e+05. This might indicate that there are<br/>strong multicollinearity or other numerical problems."
            ]
          },
          "metadata": {},
          "execution_count": 64
        }
      ]
    },
    {
      "cell_type": "code",
      "source": [
        "#Estimamos bootsstrap\n",
        "df = restaurant_inspections.load_pandas (). data"
      ],
      "metadata": {
        "id": "tstnPxkGT24G"
      },
      "execution_count": 65,
      "outputs": []
    },
    {
      "cell_type": "code",
      "source": [
        "import numpy as np"
      ],
      "metadata": {
        "id": "ZwOXWlS5U6wD"
      },
      "execution_count": 66,
      "outputs": []
    },
    {
      "cell_type": "code",
      "source": [
        "# There are bootstrap estimators in Python but generally not designed for OLS\n",
        "# So we'll make our own. Also see the Simulation chapter.\n",
        "def our_reg(DF):\n",
        "  # Resample with replacement\n",
        "  resampler = np.random.randint(0,len(df),len(df))\n",
        "  DF = DF.iloc[resampler]\n",
        "\n",
        "  # Run our estimate\n",
        "  m = sm.ols(formula = 'inspection_score ~ Year',data = DF).fit()\n",
        "  # Get all coefficients\n",
        "  return(dict(m.params))\n",
        "\n",
        "  # Run the function 2000 times and store results\n",
        "  results = [our_reg(df) for i in range(0 ,2000)]\n",
        "\n",
        "  # Turn results into a data frame\n",
        "  results = pd.DataFrame(results)\n",
        "\n",
        "  # Mean and standard deviation are estimate and SE\n",
        "  results.describe ()\n",
        "our_reg(df)"
      ],
      "metadata": {
        "colab": {
          "base_uri": "https://localhost:8080/"
        },
        "id": "P-Zzy5s0Udem",
        "outputId": "578aea7d-910e-451f-e234-2497241bdf49"
      },
      "execution_count": 67,
      "outputs": [
        {
          "output_type": "execute_result",
          "data": {
            "text/plain": [
              "{'Intercept': 199.52410812159047, 'Year': -0.05267150096562451}"
            ]
          },
          "metadata": {},
          "execution_count": 67
        }
      ]
    },
    {
      "cell_type": "markdown",
      "source": [
        "#Sample weight"
      ],
      "metadata": {
        "id": "bw3K5FUld-Nn"
      }
    },
    {
      "cell_type": "code",
      "source": [
        "df = restaurant_inspections.load_pandas (). data"
      ],
      "metadata": {
        "id": "LzGgkOj9VN0i"
      },
      "execution_count": 79,
      "outputs": []
    },
    {
      "cell_type": "code",
      "source": [
        "df['Num_Inspections'] = 1"
      ],
      "metadata": {
        "id": "8Iwe5v-MepOE"
      },
      "execution_count": 80,
      "outputs": []
    },
    {
      "cell_type": "code",
      "source": [
        "# Aggregate the data\n",
        "df = df.groupby('business_name').agg({'inspection_score': 'mean','Year': 'min','Num_Inspections': 'sum'})\n",
        "df.head()"
      ],
      "metadata": {
        "colab": {
          "base_uri": "https://localhost:8080/",
          "height": 238
        },
        "id": "kl3QOvemeDeL",
        "outputId": "ab2f6db0-80da-45ab-bb77-4e80064fc5d7"
      },
      "execution_count": 86,
      "outputs": [
        {
          "output_type": "execute_result",
          "data": {
            "text/plain": [
              "                             inspection_score  Year  Num_Inspections\n",
              "business_name                                                       \n",
              "10TH & M SEAFOODS                   96.000000  2009                6\n",
              "12-100 COFFEE & COMMUNITIES         96.555556  2015                9\n",
              "3 LITTLE PIGS - S                   99.666667  2005                6\n",
              "3M3R LLC DBA YAMA SUSHI             95.000000  2019                5\n",
              "49TH STATE BREWERY                  90.666667  2016                9"
            ],
            "text/html": [
              "\n",
              "  <div id=\"df-4beee02d-b8d5-4c19-83d9-7cd97be24a33\">\n",
              "    <div class=\"colab-df-container\">\n",
              "      <div>\n",
              "<style scoped>\n",
              "    .dataframe tbody tr th:only-of-type {\n",
              "        vertical-align: middle;\n",
              "    }\n",
              "\n",
              "    .dataframe tbody tr th {\n",
              "        vertical-align: top;\n",
              "    }\n",
              "\n",
              "    .dataframe thead th {\n",
              "        text-align: right;\n",
              "    }\n",
              "</style>\n",
              "<table border=\"1\" class=\"dataframe\">\n",
              "  <thead>\n",
              "    <tr style=\"text-align: right;\">\n",
              "      <th></th>\n",
              "      <th>inspection_score</th>\n",
              "      <th>Year</th>\n",
              "      <th>Num_Inspections</th>\n",
              "    </tr>\n",
              "    <tr>\n",
              "      <th>business_name</th>\n",
              "      <th></th>\n",
              "      <th></th>\n",
              "      <th></th>\n",
              "    </tr>\n",
              "  </thead>\n",
              "  <tbody>\n",
              "    <tr>\n",
              "      <th>10TH &amp; M SEAFOODS</th>\n",
              "      <td>96.000000</td>\n",
              "      <td>2009</td>\n",
              "      <td>6</td>\n",
              "    </tr>\n",
              "    <tr>\n",
              "      <th>12-100 COFFEE &amp; COMMUNITIES</th>\n",
              "      <td>96.555556</td>\n",
              "      <td>2015</td>\n",
              "      <td>9</td>\n",
              "    </tr>\n",
              "    <tr>\n",
              "      <th>3 LITTLE PIGS - S</th>\n",
              "      <td>99.666667</td>\n",
              "      <td>2005</td>\n",
              "      <td>6</td>\n",
              "    </tr>\n",
              "    <tr>\n",
              "      <th>3M3R LLC DBA YAMA SUSHI</th>\n",
              "      <td>95.000000</td>\n",
              "      <td>2019</td>\n",
              "      <td>5</td>\n",
              "    </tr>\n",
              "    <tr>\n",
              "      <th>49TH STATE BREWERY</th>\n",
              "      <td>90.666667</td>\n",
              "      <td>2016</td>\n",
              "      <td>9</td>\n",
              "    </tr>\n",
              "  </tbody>\n",
              "</table>\n",
              "</div>\n",
              "      <button class=\"colab-df-convert\" onclick=\"convertToInteractive('df-4beee02d-b8d5-4c19-83d9-7cd97be24a33')\"\n",
              "              title=\"Convert this dataframe to an interactive table.\"\n",
              "              style=\"display:none;\">\n",
              "        \n",
              "  <svg xmlns=\"http://www.w3.org/2000/svg\" height=\"24px\"viewBox=\"0 0 24 24\"\n",
              "       width=\"24px\">\n",
              "    <path d=\"M0 0h24v24H0V0z\" fill=\"none\"/>\n",
              "    <path d=\"M18.56 5.44l.94 2.06.94-2.06 2.06-.94-2.06-.94-.94-2.06-.94 2.06-2.06.94zm-11 1L8.5 8.5l.94-2.06 2.06-.94-2.06-.94L8.5 2.5l-.94 2.06-2.06.94zm10 10l.94 2.06.94-2.06 2.06-.94-2.06-.94-.94-2.06-.94 2.06-2.06.94z\"/><path d=\"M17.41 7.96l-1.37-1.37c-.4-.4-.92-.59-1.43-.59-.52 0-1.04.2-1.43.59L10.3 9.45l-7.72 7.72c-.78.78-.78 2.05 0 2.83L4 21.41c.39.39.9.59 1.41.59.51 0 1.02-.2 1.41-.59l7.78-7.78 2.81-2.81c.8-.78.8-2.07 0-2.86zM5.41 20L4 18.59l7.72-7.72 1.47 1.35L5.41 20z\"/>\n",
              "  </svg>\n",
              "      </button>\n",
              "      \n",
              "  <style>\n",
              "    .colab-df-container {\n",
              "      display:flex;\n",
              "      flex-wrap:wrap;\n",
              "      gap: 12px;\n",
              "    }\n",
              "\n",
              "    .colab-df-convert {\n",
              "      background-color: #E8F0FE;\n",
              "      border: none;\n",
              "      border-radius: 50%;\n",
              "      cursor: pointer;\n",
              "      display: none;\n",
              "      fill: #1967D2;\n",
              "      height: 32px;\n",
              "      padding: 0 0 0 0;\n",
              "      width: 32px;\n",
              "    }\n",
              "\n",
              "    .colab-df-convert:hover {\n",
              "      background-color: #E2EBFA;\n",
              "      box-shadow: 0px 1px 2px rgba(60, 64, 67, 0.3), 0px 1px 3px 1px rgba(60, 64, 67, 0.15);\n",
              "      fill: #174EA6;\n",
              "    }\n",
              "\n",
              "    [theme=dark] .colab-df-convert {\n",
              "      background-color: #3B4455;\n",
              "      fill: #D2E3FC;\n",
              "    }\n",
              "\n",
              "    [theme=dark] .colab-df-convert:hover {\n",
              "      background-color: #434B5C;\n",
              "      box-shadow: 0px 1px 3px 1px rgba(0, 0, 0, 0.15);\n",
              "      filter: drop-shadow(0px 1px 2px rgba(0, 0, 0, 0.3));\n",
              "      fill: #FFFFFF;\n",
              "    }\n",
              "  </style>\n",
              "\n",
              "      <script>\n",
              "        const buttonEl =\n",
              "          document.querySelector('#df-4beee02d-b8d5-4c19-83d9-7cd97be24a33 button.colab-df-convert');\n",
              "        buttonEl.style.display =\n",
              "          google.colab.kernel.accessAllowed ? 'block' : 'none';\n",
              "\n",
              "        async function convertToInteractive(key) {\n",
              "          const element = document.querySelector('#df-4beee02d-b8d5-4c19-83d9-7cd97be24a33');\n",
              "          const dataTable =\n",
              "            await google.colab.kernel.invokeFunction('convertToInteractive',\n",
              "                                                     [key], {});\n",
              "          if (!dataTable) return;\n",
              "\n",
              "          const docLinkHtml = 'Like what you see? Visit the ' +\n",
              "            '<a target=\"_blank\" href=https://colab.research.google.com/notebooks/data_table.ipynb>data table notebook</a>'\n",
              "            + ' to learn more about interactive tables.';\n",
              "          element.innerHTML = '';\n",
              "          dataTable['output_type'] = 'display_data';\n",
              "          await google.colab.output.renderOutput(dataTable, element);\n",
              "          const docLink = document.createElement('div');\n",
              "          docLink.innerHTML = docLinkHtml;\n",
              "          element.appendChild(docLink);\n",
              "        }\n",
              "      </script>\n",
              "    </div>\n",
              "  </div>\n",
              "  "
            ]
          },
          "metadata": {},
          "execution_count": 86
        }
      ]
    },
    {
      "cell_type": "code",
      "source": [
        "# Here we call a special WLS function\n",
        "m1 = sm.wls(formula = 'inspection_score ~ Year',weights = df['Num_Inspections'],data = df).fit()"
      ],
      "metadata": {
        "id": "htXs1YSXeLst"
      },
      "execution_count": 83,
      "outputs": []
    },
    {
      "cell_type": "code",
      "source": [
        "m1.summary ()"
      ],
      "metadata": {
        "colab": {
          "base_uri": "https://localhost:8080/",
          "height": 486
        },
        "id": "6uUXiPu2e0CV",
        "outputId": "667c4393-c7a6-4fcc-8362-95cb6d64e381"
      },
      "execution_count": 84,
      "outputs": [
        {
          "output_type": "execute_result",
          "data": {
            "text/plain": [
              "<class 'statsmodels.iolib.summary.Summary'>\n",
              "\"\"\"\n",
              "                            WLS Regression Results                            \n",
              "==============================================================================\n",
              "Dep. Variable:       inspection_score   R-squared:                       0.003\n",
              "Model:                            WLS   Adj. R-squared:                  0.003\n",
              "Method:                 Least Squares   F-statistic:                     5.098\n",
              "Date:                Tue, 06 Jun 2023   Prob (F-statistic):             0.0241\n",
              "Time:                        02:13:59   Log-Likelihood:                -5190.4\n",
              "No. Observations:                1618   AIC:                         1.038e+04\n",
              "Df Residuals:                    1616   BIC:                         1.040e+04\n",
              "Df Model:                           1                                         \n",
              "Covariance Type:            nonrobust                                         \n",
              "==============================================================================\n",
              "                 coef    std err          t      P>|t|      [0.025      0.975]\n",
              "------------------------------------------------------------------------------\n",
              "Intercept    178.1965     37.448      4.758      0.000     104.744     251.649\n",
              "Year          -0.0422      0.019     -2.258      0.024      -0.079      -0.006\n",
              "==============================================================================\n",
              "Omnibus:                      850.037   Durbin-Watson:                   1.682\n",
              "Prob(Omnibus):                  0.000   Jarque-Bera (JB):             7498.460\n",
              "Skew:                          -2.301   Prob(JB):                         0.00\n",
              "Kurtosis:                      12.489   Cond. No.                     6.59e+05\n",
              "==============================================================================\n",
              "\n",
              "Notes:\n",
              "[1] Standard Errors assume that the covariance matrix of the errors is correctly specified.\n",
              "[2] The condition number is large, 6.59e+05. This might indicate that there are\n",
              "strong multicollinearity or other numerical problems.\n",
              "\"\"\""
            ],
            "text/html": [
              "<table class=\"simpletable\">\n",
              "<caption>WLS Regression Results</caption>\n",
              "<tr>\n",
              "  <th>Dep. Variable:</th>    <td>inspection_score</td> <th>  R-squared:         </th> <td>   0.003</td> \n",
              "</tr>\n",
              "<tr>\n",
              "  <th>Model:</th>                   <td>WLS</td>       <th>  Adj. R-squared:    </th> <td>   0.003</td> \n",
              "</tr>\n",
              "<tr>\n",
              "  <th>Method:</th>             <td>Least Squares</td>  <th>  F-statistic:       </th> <td>   5.098</td> \n",
              "</tr>\n",
              "<tr>\n",
              "  <th>Date:</th>             <td>Tue, 06 Jun 2023</td> <th>  Prob (F-statistic):</th>  <td>0.0241</td>  \n",
              "</tr>\n",
              "<tr>\n",
              "  <th>Time:</th>                 <td>02:13:59</td>     <th>  Log-Likelihood:    </th> <td> -5190.4</td> \n",
              "</tr>\n",
              "<tr>\n",
              "  <th>No. Observations:</th>      <td>  1618</td>      <th>  AIC:               </th> <td>1.038e+04</td>\n",
              "</tr>\n",
              "<tr>\n",
              "  <th>Df Residuals:</th>          <td>  1616</td>      <th>  BIC:               </th> <td>1.040e+04</td>\n",
              "</tr>\n",
              "<tr>\n",
              "  <th>Df Model:</th>              <td>     1</td>      <th>                     </th>     <td> </td>    \n",
              "</tr>\n",
              "<tr>\n",
              "  <th>Covariance Type:</th>      <td>nonrobust</td>    <th>                     </th>     <td> </td>    \n",
              "</tr>\n",
              "</table>\n",
              "<table class=\"simpletable\">\n",
              "<tr>\n",
              "      <td></td>         <th>coef</th>     <th>std err</th>      <th>t</th>      <th>P>|t|</th>  <th>[0.025</th>    <th>0.975]</th>  \n",
              "</tr>\n",
              "<tr>\n",
              "  <th>Intercept</th> <td>  178.1965</td> <td>   37.448</td> <td>    4.758</td> <td> 0.000</td> <td>  104.744</td> <td>  251.649</td>\n",
              "</tr>\n",
              "<tr>\n",
              "  <th>Year</th>      <td>   -0.0422</td> <td>    0.019</td> <td>   -2.258</td> <td> 0.024</td> <td>   -0.079</td> <td>   -0.006</td>\n",
              "</tr>\n",
              "</table>\n",
              "<table class=\"simpletable\">\n",
              "<tr>\n",
              "  <th>Omnibus:</th>       <td>850.037</td> <th>  Durbin-Watson:     </th> <td>   1.682</td>\n",
              "</tr>\n",
              "<tr>\n",
              "  <th>Prob(Omnibus):</th> <td> 0.000</td>  <th>  Jarque-Bera (JB):  </th> <td>7498.460</td>\n",
              "</tr>\n",
              "<tr>\n",
              "  <th>Skew:</th>          <td>-2.301</td>  <th>  Prob(JB):          </th> <td>    0.00</td>\n",
              "</tr>\n",
              "<tr>\n",
              "  <th>Kurtosis:</th>      <td>12.489</td>  <th>  Cond. No.          </th> <td>6.59e+05</td>\n",
              "</tr>\n",
              "</table><br/><br/>Notes:<br/>[1] Standard Errors assume that the covariance matrix of the errors is correctly specified.<br/>[2] The condition number is large, 6.59e+05. This might indicate that there are<br/>strong multicollinearity or other numerical problems."
            ]
          },
          "metadata": {},
          "execution_count": 84
        }
      ]
    },
    {
      "cell_type": "markdown",
      "source": [
        "#LASSO"
      ],
      "metadata": {
        "id": "xp8iNuI5modR"
      }
    },
    {
      "cell_type": "code",
      "source": [
        "from sklearn.preprocessing import PolynomialFeatures\n",
        "from sklearn.linear_model import LassoCV\n",
        "from sklearn.preprocessing import MinMaxScaler\n"
      ],
      "metadata": {
        "id": "xKFoSnwHe1nz"
      },
      "execution_count": 101,
      "outputs": []
    },
    {
      "cell_type": "code",
      "source": [
        "df = restaurant_inspections.load_pandas (). data"
      ],
      "metadata": {
        "id": "cxH1ufEymnwC"
      },
      "execution_count": 134,
      "outputs": []
    },
    {
      "cell_type": "code",
      "source": [
        "# Create a matrix with predictors , interactions , and squares\n",
        "X = df[['NumberofLocations','Year','Weekend']]\n",
        "X_all = PolynomialFeatures (2, interaction_only = False ,include_bias = False). fit_transform(X)\n",
        "mm = MinMaxScaler()\n",
        "X_all = mm.fit_transform(X_all)"
      ],
      "metadata": {
        "id": "6V7Q_WOQmtKa"
      },
      "execution_count": 138,
      "outputs": []
    },
    {
      "cell_type": "code",
      "source": [
        "df2 = df.copy()\n",
        "df2 = df2['inspection_score']\n",
        "df2 = df2.array.reshape(-1, 1)\n",
        "df2 = mm.fit_transform(df2)"
      ],
      "metadata": {
        "id": "OShv2hq9s71d"
      },
      "execution_count": 142,
      "outputs": []
    },
    {
      "cell_type": "code",
      "source": [
        "# Use LassoCV to pick a lambda with 20 chunks. normalize = True\n",
        "# standardizes the variables. This particular model has trouble\n",
        "# converging so let's give it more iterations to try with max_iter\n",
        "reg = LassoCV(cv = 20, max_iter = 10000).fit(X_all ,df2)"
      ],
      "metadata": {
        "colab": {
          "base_uri": "https://localhost:8080/"
        },
        "id": "7R2fz3mWmudB",
        "outputId": "1572a84e-10a8-40e0-8cca-edec07dd512c"
      },
      "execution_count": 143,
      "outputs": [
        {
          "output_type": "stream",
          "name": "stderr",
          "text": [
            "/usr/local/lib/python3.10/dist-packages/sklearn/linear_model/_coordinate_descent.py:1568: DataConversionWarning: A column-vector y was passed when a 1d array was expected. Please change the shape of y to (n_samples, ), for example using ravel().\n",
            "  y = column_or_1d(y, warn=True)\n"
          ]
        }
      ]
    },
    {
      "cell_type": "code",
      "source": [
        "reg.coef_\n",
        "# Looks like Weekend , squared Year, Year * NumberofLocations ,\n",
        "# and Year * Weekend all get dropped. So we can redo OLS without them"
      ],
      "metadata": {
        "colab": {
          "base_uri": "https://localhost:8080/"
        },
        "id": "V81sr5nQm9QS",
        "outputId": "0cefc266-bf59-46b7-aa91-c9642fff2f08"
      },
      "execution_count": 144,
      "outputs": [
        {
          "output_type": "execute_result",
          "data": {
            "text/plain": [
              "array([-1.58941247, -0.07319503,  0.        ,  1.50359956, -0.        ,\n",
              "       -0.        , -0.        ,  0.00396108,  0.        ])"
            ]
          },
          "metadata": {},
          "execution_count": 144
        }
      ]
    },
    {
      "cell_type": "code",
      "source": [
        "m1 = sm.ols(formula = '''inspection_score ~ NumberofLocations + I(NumberofLocations**2) + NumberofLocations:Weekend + Year''', data = df).fit()\n",
        "m1.summary ()"
      ],
      "metadata": {
        "colab": {
          "base_uri": "https://localhost:8080/",
          "height": 550
        },
        "id": "-ol5BF-fnuyT",
        "outputId": "3de12e89-9150-42e5-a1f0-4498d12d94eb"
      },
      "execution_count": 145,
      "outputs": [
        {
          "output_type": "execute_result",
          "data": {
            "text/plain": [
              "<class 'statsmodels.iolib.summary.Summary'>\n",
              "\"\"\"\n",
              "                            OLS Regression Results                            \n",
              "==============================================================================\n",
              "Dep. Variable:       inspection_score   R-squared:                       0.210\n",
              "Model:                            OLS   Adj. R-squared:                  0.210\n",
              "Method:                 Least Squares   F-statistic:                     1802.\n",
              "Date:                Tue, 06 Jun 2023   Prob (F-statistic):               0.00\n",
              "Time:                        03:25:22   Log-Likelihood:                -85202.\n",
              "No. Observations:               27178   AIC:                         1.704e+05\n",
              "Df Residuals:                   27173   BIC:                         1.705e+05\n",
              "Df Model:                           4                                         \n",
              "Covariance Type:            nonrobust                                         \n",
              "=====================================================================================================\n",
              "                                        coef    std err          t      P>|t|      [0.025      0.975]\n",
              "-----------------------------------------------------------------------------------------------------\n",
              "Intercept                           363.0924     11.608     31.280      0.000     340.340     385.844\n",
              "NumberofLocations                    -0.0844      0.001    -82.889      0.000      -0.086      -0.082\n",
              "NumberofLocations:Weekend[T.True]    -0.0039      0.006     -0.648      0.517      -0.016       0.008\n",
              "I(NumberofLocations ** 2)             0.0001   1.77e-06     69.683      0.000       0.000       0.000\n",
              "Year                                 -0.1320      0.006    -22.879      0.000      -0.143      -0.121\n",
              "==============================================================================\n",
              "Omnibus:                     2526.881   Durbin-Watson:                   1.943\n",
              "Prob(Omnibus):                  0.000   Jarque-Bera (JB):             3412.965\n",
              "Skew:                          -0.775   Prob(JB):                         0.00\n",
              "Kurtosis:                       3.783   Cond. No.                     1.71e+07\n",
              "==============================================================================\n",
              "\n",
              "Notes:\n",
              "[1] Standard Errors assume that the covariance matrix of the errors is correctly specified.\n",
              "[2] The condition number is large, 1.71e+07. This might indicate that there are\n",
              "strong multicollinearity or other numerical problems.\n",
              "\"\"\""
            ],
            "text/html": [
              "<table class=\"simpletable\">\n",
              "<caption>OLS Regression Results</caption>\n",
              "<tr>\n",
              "  <th>Dep. Variable:</th>    <td>inspection_score</td> <th>  R-squared:         </th> <td>   0.210</td> \n",
              "</tr>\n",
              "<tr>\n",
              "  <th>Model:</th>                   <td>OLS</td>       <th>  Adj. R-squared:    </th> <td>   0.210</td> \n",
              "</tr>\n",
              "<tr>\n",
              "  <th>Method:</th>             <td>Least Squares</td>  <th>  F-statistic:       </th> <td>   1802.</td> \n",
              "</tr>\n",
              "<tr>\n",
              "  <th>Date:</th>             <td>Tue, 06 Jun 2023</td> <th>  Prob (F-statistic):</th>  <td>  0.00</td>  \n",
              "</tr>\n",
              "<tr>\n",
              "  <th>Time:</th>                 <td>03:25:22</td>     <th>  Log-Likelihood:    </th> <td> -85202.</td> \n",
              "</tr>\n",
              "<tr>\n",
              "  <th>No. Observations:</th>      <td> 27178</td>      <th>  AIC:               </th> <td>1.704e+05</td>\n",
              "</tr>\n",
              "<tr>\n",
              "  <th>Df Residuals:</th>          <td> 27173</td>      <th>  BIC:               </th> <td>1.705e+05</td>\n",
              "</tr>\n",
              "<tr>\n",
              "  <th>Df Model:</th>              <td>     4</td>      <th>                     </th>     <td> </td>    \n",
              "</tr>\n",
              "<tr>\n",
              "  <th>Covariance Type:</th>      <td>nonrobust</td>    <th>                     </th>     <td> </td>    \n",
              "</tr>\n",
              "</table>\n",
              "<table class=\"simpletable\">\n",
              "<tr>\n",
              "                  <td></td>                     <th>coef</th>     <th>std err</th>      <th>t</th>      <th>P>|t|</th>  <th>[0.025</th>    <th>0.975]</th>  \n",
              "</tr>\n",
              "<tr>\n",
              "  <th>Intercept</th>                         <td>  363.0924</td> <td>   11.608</td> <td>   31.280</td> <td> 0.000</td> <td>  340.340</td> <td>  385.844</td>\n",
              "</tr>\n",
              "<tr>\n",
              "  <th>NumberofLocations</th>                 <td>   -0.0844</td> <td>    0.001</td> <td>  -82.889</td> <td> 0.000</td> <td>   -0.086</td> <td>   -0.082</td>\n",
              "</tr>\n",
              "<tr>\n",
              "  <th>NumberofLocations:Weekend[T.True]</th> <td>   -0.0039</td> <td>    0.006</td> <td>   -0.648</td> <td> 0.517</td> <td>   -0.016</td> <td>    0.008</td>\n",
              "</tr>\n",
              "<tr>\n",
              "  <th>I(NumberofLocations ** 2)</th>         <td>    0.0001</td> <td> 1.77e-06</td> <td>   69.683</td> <td> 0.000</td> <td>    0.000</td> <td>    0.000</td>\n",
              "</tr>\n",
              "<tr>\n",
              "  <th>Year</th>                              <td>   -0.1320</td> <td>    0.006</td> <td>  -22.879</td> <td> 0.000</td> <td>   -0.143</td> <td>   -0.121</td>\n",
              "</tr>\n",
              "</table>\n",
              "<table class=\"simpletable\">\n",
              "<tr>\n",
              "  <th>Omnibus:</th>       <td>2526.881</td> <th>  Durbin-Watson:     </th> <td>   1.943</td>\n",
              "</tr>\n",
              "<tr>\n",
              "  <th>Prob(Omnibus):</th>  <td> 0.000</td>  <th>  Jarque-Bera (JB):  </th> <td>3412.965</td>\n",
              "</tr>\n",
              "<tr>\n",
              "  <th>Skew:</th>           <td>-0.775</td>  <th>  Prob(JB):          </th> <td>    0.00</td>\n",
              "</tr>\n",
              "<tr>\n",
              "  <th>Kurtosis:</th>       <td> 3.783</td>  <th>  Cond. No.          </th> <td>1.71e+07</td>\n",
              "</tr>\n",
              "</table><br/><br/>Notes:<br/>[1] Standard Errors assume that the covariance matrix of the errors is correctly specified.<br/>[2] The condition number is large, 1.71e+07. This might indicate that there are<br/>strong multicollinearity or other numerical problems."
            ]
          },
          "metadata": {},
          "execution_count": 145
        }
      ]
    }
  ]
}